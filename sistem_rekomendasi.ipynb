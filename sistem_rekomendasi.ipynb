{
  "nbformat": 4,
  "nbformat_minor": 0,
  "metadata": {
    "colab": {
      "provenance": []
    },
    "kernelspec": {
      "name": "python3",
      "display_name": "Python 3"
    },
    "language_info": {
      "name": "python"
    }
  },
  "cells": [
    {
      "cell_type": "markdown",
      "source": [
        "# Sistem Rekomendasi"
      ],
      "metadata": {
        "id": "EVofs61oMzuJ"
      }
    },
    {
      "cell_type": "markdown",
      "source": [
        "Menuliskan library\n",
        "(Mengimpor library Python yang dibutuhkan untuk analisis data, visualisasi, dan membangun sistem rekomendasi (pandas, numpy, matplotlib, seaborn, collections, sklearn))."
      ],
      "metadata": {
        "id": "jhl9SrlAMvip"
      }
    },
    {
      "cell_type": "code",
      "execution_count": null,
      "metadata": {
        "id": "TAKlkjbo_Ux1"
      },
      "outputs": [],
      "source": [
        "import pandas as pd\n",
        "import pandas as pd\n",
        "import numpy as np\n",
        "import matplotlib.pyplot as plt\n",
        "import seaborn as sns\n",
        "from collections import Counter\n",
        "from sklearn.preprocessing import MultiLabelBinarizer\n",
        "from sklearn.metrics.pairwise import cosine_similarity"
      ]
    },
    {
      "cell_type": "markdown",
      "source": [
        "## Loading Dataset"
      ],
      "metadata": {
        "id": "ckZy-jcLMpyP"
      }
    },
    {
      "cell_type": "markdown",
      "source": [
        "Memuat dataset movies.csv dan ratings.csv ke dalam DataFrame pandas dan menampilkan beberapa baris pertama dari masing-masing DataFrame untuk pratinjau data."
      ],
      "metadata": {
        "id": "gAh9uHLAMmii"
      }
    },
    {
      "cell_type": "code",
      "source": [
        "movies = pd.read_csv('movies.csv')\n",
        "rating = pd.read_csv('ratings.csv')\n",
        "\n",
        "display(movies.head())\n",
        "print('\\n')\n",
        "display(rating.head())"
      ],
      "metadata": {
        "colab": {
          "base_uri": "https://localhost:8080/",
          "height": 429
        },
        "id": "0IpRHyLvFM9l",
        "outputId": "aed0a453-f011-4bf9-ce6f-9b3e9f9f7ce0"
      },
      "execution_count": null,
      "outputs": [
        {
          "output_type": "display_data",
          "data": {
            "text/plain": [
              "   movieId                               title  \\\n",
              "0        1                    Toy Story (1995)   \n",
              "1        2                      Jumanji (1995)   \n",
              "2        3             Grumpier Old Men (1995)   \n",
              "3        4            Waiting to Exhale (1995)   \n",
              "4        5  Father of the Bride Part II (1995)   \n",
              "\n",
              "                                        genres  \n",
              "0  Adventure|Animation|Children|Comedy|Fantasy  \n",
              "1                   Adventure|Children|Fantasy  \n",
              "2                               Comedy|Romance  \n",
              "3                         Comedy|Drama|Romance  \n",
              "4                                       Comedy  "
            ],
            "text/html": [
              "\n",
              "  <div id=\"df-9f7e7ebb-ebce-45e8-bc36-4dcb4998b684\" class=\"colab-df-container\">\n",
              "    <div>\n",
              "<style scoped>\n",
              "    .dataframe tbody tr th:only-of-type {\n",
              "        vertical-align: middle;\n",
              "    }\n",
              "\n",
              "    .dataframe tbody tr th {\n",
              "        vertical-align: top;\n",
              "    }\n",
              "\n",
              "    .dataframe thead th {\n",
              "        text-align: right;\n",
              "    }\n",
              "</style>\n",
              "<table border=\"1\" class=\"dataframe\">\n",
              "  <thead>\n",
              "    <tr style=\"text-align: right;\">\n",
              "      <th></th>\n",
              "      <th>movieId</th>\n",
              "      <th>title</th>\n",
              "      <th>genres</th>\n",
              "    </tr>\n",
              "  </thead>\n",
              "  <tbody>\n",
              "    <tr>\n",
              "      <th>0</th>\n",
              "      <td>1</td>\n",
              "      <td>Toy Story (1995)</td>\n",
              "      <td>Adventure|Animation|Children|Comedy|Fantasy</td>\n",
              "    </tr>\n",
              "    <tr>\n",
              "      <th>1</th>\n",
              "      <td>2</td>\n",
              "      <td>Jumanji (1995)</td>\n",
              "      <td>Adventure|Children|Fantasy</td>\n",
              "    </tr>\n",
              "    <tr>\n",
              "      <th>2</th>\n",
              "      <td>3</td>\n",
              "      <td>Grumpier Old Men (1995)</td>\n",
              "      <td>Comedy|Romance</td>\n",
              "    </tr>\n",
              "    <tr>\n",
              "      <th>3</th>\n",
              "      <td>4</td>\n",
              "      <td>Waiting to Exhale (1995)</td>\n",
              "      <td>Comedy|Drama|Romance</td>\n",
              "    </tr>\n",
              "    <tr>\n",
              "      <th>4</th>\n",
              "      <td>5</td>\n",
              "      <td>Father of the Bride Part II (1995)</td>\n",
              "      <td>Comedy</td>\n",
              "    </tr>\n",
              "  </tbody>\n",
              "</table>\n",
              "</div>\n",
              "    <div class=\"colab-df-buttons\">\n",
              "\n",
              "  <div class=\"colab-df-container\">\n",
              "    <button class=\"colab-df-convert\" onclick=\"convertToInteractive('df-9f7e7ebb-ebce-45e8-bc36-4dcb4998b684')\"\n",
              "            title=\"Convert this dataframe to an interactive table.\"\n",
              "            style=\"display:none;\">\n",
              "\n",
              "  <svg xmlns=\"http://www.w3.org/2000/svg\" height=\"24px\" viewBox=\"0 -960 960 960\">\n",
              "    <path d=\"M120-120v-720h720v720H120Zm60-500h600v-160H180v160Zm220 220h160v-160H400v160Zm0 220h160v-160H400v160ZM180-400h160v-160H180v160Zm440 0h160v-160H620v160ZM180-180h160v-160H180v160Zm440 0h160v-160H620v160Z\"/>\n",
              "  </svg>\n",
              "    </button>\n",
              "\n",
              "  <style>\n",
              "    .colab-df-container {\n",
              "      display:flex;\n",
              "      gap: 12px;\n",
              "    }\n",
              "\n",
              "    .colab-df-convert {\n",
              "      background-color: #E8F0FE;\n",
              "      border: none;\n",
              "      border-radius: 50%;\n",
              "      cursor: pointer;\n",
              "      display: none;\n",
              "      fill: #1967D2;\n",
              "      height: 32px;\n",
              "      padding: 0 0 0 0;\n",
              "      width: 32px;\n",
              "    }\n",
              "\n",
              "    .colab-df-convert:hover {\n",
              "      background-color: #E2EBFA;\n",
              "      box-shadow: 0px 1px 2px rgba(60, 64, 67, 0.3), 0px 1px 3px 1px rgba(60, 64, 67, 0.15);\n",
              "      fill: #174EA6;\n",
              "    }\n",
              "\n",
              "    .colab-df-buttons div {\n",
              "      margin-bottom: 4px;\n",
              "    }\n",
              "\n",
              "    [theme=dark] .colab-df-convert {\n",
              "      background-color: #3B4455;\n",
              "      fill: #D2E3FC;\n",
              "    }\n",
              "\n",
              "    [theme=dark] .colab-df-convert:hover {\n",
              "      background-color: #434B5C;\n",
              "      box-shadow: 0px 1px 3px 1px rgba(0, 0, 0, 0.15);\n",
              "      filter: drop-shadow(0px 1px 2px rgba(0, 0, 0, 0.3));\n",
              "      fill: #FFFFFF;\n",
              "    }\n",
              "  </style>\n",
              "\n",
              "    <script>\n",
              "      const buttonEl =\n",
              "        document.querySelector('#df-9f7e7ebb-ebce-45e8-bc36-4dcb4998b684 button.colab-df-convert');\n",
              "      buttonEl.style.display =\n",
              "        google.colab.kernel.accessAllowed ? 'block' : 'none';\n",
              "\n",
              "      async function convertToInteractive(key) {\n",
              "        const element = document.querySelector('#df-9f7e7ebb-ebce-45e8-bc36-4dcb4998b684');\n",
              "        const dataTable =\n",
              "          await google.colab.kernel.invokeFunction('convertToInteractive',\n",
              "                                                    [key], {});\n",
              "        if (!dataTable) return;\n",
              "\n",
              "        const docLinkHtml = 'Like what you see? Visit the ' +\n",
              "          '<a target=\"_blank\" href=https://colab.research.google.com/notebooks/data_table.ipynb>data table notebook</a>'\n",
              "          + ' to learn more about interactive tables.';\n",
              "        element.innerHTML = '';\n",
              "        dataTable['output_type'] = 'display_data';\n",
              "        await google.colab.output.renderOutput(dataTable, element);\n",
              "        const docLink = document.createElement('div');\n",
              "        docLink.innerHTML = docLinkHtml;\n",
              "        element.appendChild(docLink);\n",
              "      }\n",
              "    </script>\n",
              "  </div>\n",
              "\n",
              "\n",
              "    <div id=\"df-c597c0e3-4c37-4493-8e18-6e49fca4b9c8\">\n",
              "      <button class=\"colab-df-quickchart\" onclick=\"quickchart('df-c597c0e3-4c37-4493-8e18-6e49fca4b9c8')\"\n",
              "                title=\"Suggest charts\"\n",
              "                style=\"display:none;\">\n",
              "\n",
              "<svg xmlns=\"http://www.w3.org/2000/svg\" height=\"24px\"viewBox=\"0 0 24 24\"\n",
              "     width=\"24px\">\n",
              "    <g>\n",
              "        <path d=\"M19 3H5c-1.1 0-2 .9-2 2v14c0 1.1.9 2 2 2h14c1.1 0 2-.9 2-2V5c0-1.1-.9-2-2-2zM9 17H7v-7h2v7zm4 0h-2V7h2v10zm4 0h-2v-4h2v4z\"/>\n",
              "    </g>\n",
              "</svg>\n",
              "      </button>\n",
              "\n",
              "<style>\n",
              "  .colab-df-quickchart {\n",
              "      --bg-color: #E8F0FE;\n",
              "      --fill-color: #1967D2;\n",
              "      --hover-bg-color: #E2EBFA;\n",
              "      --hover-fill-color: #174EA6;\n",
              "      --disabled-fill-color: #AAA;\n",
              "      --disabled-bg-color: #DDD;\n",
              "  }\n",
              "\n",
              "  [theme=dark] .colab-df-quickchart {\n",
              "      --bg-color: #3B4455;\n",
              "      --fill-color: #D2E3FC;\n",
              "      --hover-bg-color: #434B5C;\n",
              "      --hover-fill-color: #FFFFFF;\n",
              "      --disabled-bg-color: #3B4455;\n",
              "      --disabled-fill-color: #666;\n",
              "  }\n",
              "\n",
              "  .colab-df-quickchart {\n",
              "    background-color: var(--bg-color);\n",
              "    border: none;\n",
              "    border-radius: 50%;\n",
              "    cursor: pointer;\n",
              "    display: none;\n",
              "    fill: var(--fill-color);\n",
              "    height: 32px;\n",
              "    padding: 0;\n",
              "    width: 32px;\n",
              "  }\n",
              "\n",
              "  .colab-df-quickchart:hover {\n",
              "    background-color: var(--hover-bg-color);\n",
              "    box-shadow: 0 1px 2px rgba(60, 64, 67, 0.3), 0 1px 3px 1px rgba(60, 64, 67, 0.15);\n",
              "    fill: var(--button-hover-fill-color);\n",
              "  }\n",
              "\n",
              "  .colab-df-quickchart-complete:disabled,\n",
              "  .colab-df-quickchart-complete:disabled:hover {\n",
              "    background-color: var(--disabled-bg-color);\n",
              "    fill: var(--disabled-fill-color);\n",
              "    box-shadow: none;\n",
              "  }\n",
              "\n",
              "  .colab-df-spinner {\n",
              "    border: 2px solid var(--fill-color);\n",
              "    border-color: transparent;\n",
              "    border-bottom-color: var(--fill-color);\n",
              "    animation:\n",
              "      spin 1s steps(1) infinite;\n",
              "  }\n",
              "\n",
              "  @keyframes spin {\n",
              "    0% {\n",
              "      border-color: transparent;\n",
              "      border-bottom-color: var(--fill-color);\n",
              "      border-left-color: var(--fill-color);\n",
              "    }\n",
              "    20% {\n",
              "      border-color: transparent;\n",
              "      border-left-color: var(--fill-color);\n",
              "      border-top-color: var(--fill-color);\n",
              "    }\n",
              "    30% {\n",
              "      border-color: transparent;\n",
              "      border-left-color: var(--fill-color);\n",
              "      border-top-color: var(--fill-color);\n",
              "      border-right-color: var(--fill-color);\n",
              "    }\n",
              "    40% {\n",
              "      border-color: transparent;\n",
              "      border-right-color: var(--fill-color);\n",
              "      border-top-color: var(--fill-color);\n",
              "    }\n",
              "    60% {\n",
              "      border-color: transparent;\n",
              "      border-right-color: var(--fill-color);\n",
              "    }\n",
              "    80% {\n",
              "      border-color: transparent;\n",
              "      border-right-color: var(--fill-color);\n",
              "      border-bottom-color: var(--fill-color);\n",
              "    }\n",
              "    90% {\n",
              "      border-color: transparent;\n",
              "      border-bottom-color: var(--fill-color);\n",
              "    }\n",
              "  }\n",
              "</style>\n",
              "\n",
              "      <script>\n",
              "        async function quickchart(key) {\n",
              "          const quickchartButtonEl =\n",
              "            document.querySelector('#' + key + ' button');\n",
              "          quickchartButtonEl.disabled = true;  // To prevent multiple clicks.\n",
              "          quickchartButtonEl.classList.add('colab-df-spinner');\n",
              "          try {\n",
              "            const charts = await google.colab.kernel.invokeFunction(\n",
              "                'suggestCharts', [key], {});\n",
              "          } catch (error) {\n",
              "            console.error('Error during call to suggestCharts:', error);\n",
              "          }\n",
              "          quickchartButtonEl.classList.remove('colab-df-spinner');\n",
              "          quickchartButtonEl.classList.add('colab-df-quickchart-complete');\n",
              "        }\n",
              "        (() => {\n",
              "          let quickchartButtonEl =\n",
              "            document.querySelector('#df-c597c0e3-4c37-4493-8e18-6e49fca4b9c8 button');\n",
              "          quickchartButtonEl.style.display =\n",
              "            google.colab.kernel.accessAllowed ? 'block' : 'none';\n",
              "        })();\n",
              "      </script>\n",
              "    </div>\n",
              "\n",
              "    </div>\n",
              "  </div>\n"
            ],
            "application/vnd.google.colaboratory.intrinsic+json": {
              "type": "dataframe",
              "summary": "{\n  \"name\": \"display(rating\",\n  \"rows\": 5,\n  \"fields\": [\n    {\n      \"column\": \"movieId\",\n      \"properties\": {\n        \"dtype\": \"number\",\n        \"std\": 1,\n        \"min\": 1,\n        \"max\": 5,\n        \"num_unique_values\": 5,\n        \"samples\": [\n          2,\n          5,\n          3\n        ],\n        \"semantic_type\": \"\",\n        \"description\": \"\"\n      }\n    },\n    {\n      \"column\": \"title\",\n      \"properties\": {\n        \"dtype\": \"string\",\n        \"num_unique_values\": 5,\n        \"samples\": [\n          \"Jumanji (1995)\",\n          \"Father of the Bride Part II (1995)\",\n          \"Grumpier Old Men (1995)\"\n        ],\n        \"semantic_type\": \"\",\n        \"description\": \"\"\n      }\n    },\n    {\n      \"column\": \"genres\",\n      \"properties\": {\n        \"dtype\": \"string\",\n        \"num_unique_values\": 5,\n        \"samples\": [\n          \"Adventure|Children|Fantasy\",\n          \"Comedy\",\n          \"Comedy|Romance\"\n        ],\n        \"semantic_type\": \"\",\n        \"description\": \"\"\n      }\n    }\n  ]\n}"
            }
          },
          "metadata": {}
        },
        {
          "output_type": "stream",
          "name": "stdout",
          "text": [
            "\n",
            "\n"
          ]
        },
        {
          "output_type": "display_data",
          "data": {
            "text/plain": [
              "   userId  movieId  rating  timestamp\n",
              "0       1        1     4.0  964982703\n",
              "1       1        3     4.0  964981247\n",
              "2       1        6     4.0  964982224\n",
              "3       1       47     5.0  964983815\n",
              "4       1       50     5.0  964982931"
            ],
            "text/html": [
              "\n",
              "  <div id=\"df-e9ee8cee-9ab0-46de-889c-4513358613db\" class=\"colab-df-container\">\n",
              "    <div>\n",
              "<style scoped>\n",
              "    .dataframe tbody tr th:only-of-type {\n",
              "        vertical-align: middle;\n",
              "    }\n",
              "\n",
              "    .dataframe tbody tr th {\n",
              "        vertical-align: top;\n",
              "    }\n",
              "\n",
              "    .dataframe thead th {\n",
              "        text-align: right;\n",
              "    }\n",
              "</style>\n",
              "<table border=\"1\" class=\"dataframe\">\n",
              "  <thead>\n",
              "    <tr style=\"text-align: right;\">\n",
              "      <th></th>\n",
              "      <th>userId</th>\n",
              "      <th>movieId</th>\n",
              "      <th>rating</th>\n",
              "      <th>timestamp</th>\n",
              "    </tr>\n",
              "  </thead>\n",
              "  <tbody>\n",
              "    <tr>\n",
              "      <th>0</th>\n",
              "      <td>1</td>\n",
              "      <td>1</td>\n",
              "      <td>4.0</td>\n",
              "      <td>964982703</td>\n",
              "    </tr>\n",
              "    <tr>\n",
              "      <th>1</th>\n",
              "      <td>1</td>\n",
              "      <td>3</td>\n",
              "      <td>4.0</td>\n",
              "      <td>964981247</td>\n",
              "    </tr>\n",
              "    <tr>\n",
              "      <th>2</th>\n",
              "      <td>1</td>\n",
              "      <td>6</td>\n",
              "      <td>4.0</td>\n",
              "      <td>964982224</td>\n",
              "    </tr>\n",
              "    <tr>\n",
              "      <th>3</th>\n",
              "      <td>1</td>\n",
              "      <td>47</td>\n",
              "      <td>5.0</td>\n",
              "      <td>964983815</td>\n",
              "    </tr>\n",
              "    <tr>\n",
              "      <th>4</th>\n",
              "      <td>1</td>\n",
              "      <td>50</td>\n",
              "      <td>5.0</td>\n",
              "      <td>964982931</td>\n",
              "    </tr>\n",
              "  </tbody>\n",
              "</table>\n",
              "</div>\n",
              "    <div class=\"colab-df-buttons\">\n",
              "\n",
              "  <div class=\"colab-df-container\">\n",
              "    <button class=\"colab-df-convert\" onclick=\"convertToInteractive('df-e9ee8cee-9ab0-46de-889c-4513358613db')\"\n",
              "            title=\"Convert this dataframe to an interactive table.\"\n",
              "            style=\"display:none;\">\n",
              "\n",
              "  <svg xmlns=\"http://www.w3.org/2000/svg\" height=\"24px\" viewBox=\"0 -960 960 960\">\n",
              "    <path d=\"M120-120v-720h720v720H120Zm60-500h600v-160H180v160Zm220 220h160v-160H400v160Zm0 220h160v-160H400v160ZM180-400h160v-160H180v160Zm440 0h160v-160H620v160ZM180-180h160v-160H180v160Zm440 0h160v-160H620v160Z\"/>\n",
              "  </svg>\n",
              "    </button>\n",
              "\n",
              "  <style>\n",
              "    .colab-df-container {\n",
              "      display:flex;\n",
              "      gap: 12px;\n",
              "    }\n",
              "\n",
              "    .colab-df-convert {\n",
              "      background-color: #E8F0FE;\n",
              "      border: none;\n",
              "      border-radius: 50%;\n",
              "      cursor: pointer;\n",
              "      display: none;\n",
              "      fill: #1967D2;\n",
              "      height: 32px;\n",
              "      padding: 0 0 0 0;\n",
              "      width: 32px;\n",
              "    }\n",
              "\n",
              "    .colab-df-convert:hover {\n",
              "      background-color: #E2EBFA;\n",
              "      box-shadow: 0px 1px 2px rgba(60, 64, 67, 0.3), 0px 1px 3px 1px rgba(60, 64, 67, 0.15);\n",
              "      fill: #174EA6;\n",
              "    }\n",
              "\n",
              "    .colab-df-buttons div {\n",
              "      margin-bottom: 4px;\n",
              "    }\n",
              "\n",
              "    [theme=dark] .colab-df-convert {\n",
              "      background-color: #3B4455;\n",
              "      fill: #D2E3FC;\n",
              "    }\n",
              "\n",
              "    [theme=dark] .colab-df-convert:hover {\n",
              "      background-color: #434B5C;\n",
              "      box-shadow: 0px 1px 3px 1px rgba(0, 0, 0, 0.15);\n",
              "      filter: drop-shadow(0px 1px 2px rgba(0, 0, 0, 0.3));\n",
              "      fill: #FFFFFF;\n",
              "    }\n",
              "  </style>\n",
              "\n",
              "    <script>\n",
              "      const buttonEl =\n",
              "        document.querySelector('#df-e9ee8cee-9ab0-46de-889c-4513358613db button.colab-df-convert');\n",
              "      buttonEl.style.display =\n",
              "        google.colab.kernel.accessAllowed ? 'block' : 'none';\n",
              "\n",
              "      async function convertToInteractive(key) {\n",
              "        const element = document.querySelector('#df-e9ee8cee-9ab0-46de-889c-4513358613db');\n",
              "        const dataTable =\n",
              "          await google.colab.kernel.invokeFunction('convertToInteractive',\n",
              "                                                    [key], {});\n",
              "        if (!dataTable) return;\n",
              "\n",
              "        const docLinkHtml = 'Like what you see? Visit the ' +\n",
              "          '<a target=\"_blank\" href=https://colab.research.google.com/notebooks/data_table.ipynb>data table notebook</a>'\n",
              "          + ' to learn more about interactive tables.';\n",
              "        element.innerHTML = '';\n",
              "        dataTable['output_type'] = 'display_data';\n",
              "        await google.colab.output.renderOutput(dataTable, element);\n",
              "        const docLink = document.createElement('div');\n",
              "        docLink.innerHTML = docLinkHtml;\n",
              "        element.appendChild(docLink);\n",
              "      }\n",
              "    </script>\n",
              "  </div>\n",
              "\n",
              "\n",
              "    <div id=\"df-1edfb182-edf0-4ff4-83ff-d5bf612f5f5e\">\n",
              "      <button class=\"colab-df-quickchart\" onclick=\"quickchart('df-1edfb182-edf0-4ff4-83ff-d5bf612f5f5e')\"\n",
              "                title=\"Suggest charts\"\n",
              "                style=\"display:none;\">\n",
              "\n",
              "<svg xmlns=\"http://www.w3.org/2000/svg\" height=\"24px\"viewBox=\"0 0 24 24\"\n",
              "     width=\"24px\">\n",
              "    <g>\n",
              "        <path d=\"M19 3H5c-1.1 0-2 .9-2 2v14c0 1.1.9 2 2 2h14c1.1 0 2-.9 2-2V5c0-1.1-.9-2-2-2zM9 17H7v-7h2v7zm4 0h-2V7h2v10zm4 0h-2v-4h2v4z\"/>\n",
              "    </g>\n",
              "</svg>\n",
              "      </button>\n",
              "\n",
              "<style>\n",
              "  .colab-df-quickchart {\n",
              "      --bg-color: #E8F0FE;\n",
              "      --fill-color: #1967D2;\n",
              "      --hover-bg-color: #E2EBFA;\n",
              "      --hover-fill-color: #174EA6;\n",
              "      --disabled-fill-color: #AAA;\n",
              "      --disabled-bg-color: #DDD;\n",
              "  }\n",
              "\n",
              "  [theme=dark] .colab-df-quickchart {\n",
              "      --bg-color: #3B4455;\n",
              "      --fill-color: #D2E3FC;\n",
              "      --hover-bg-color: #434B5C;\n",
              "      --hover-fill-color: #FFFFFF;\n",
              "      --disabled-bg-color: #3B4455;\n",
              "      --disabled-fill-color: #666;\n",
              "  }\n",
              "\n",
              "  .colab-df-quickchart {\n",
              "    background-color: var(--bg-color);\n",
              "    border: none;\n",
              "    border-radius: 50%;\n",
              "    cursor: pointer;\n",
              "    display: none;\n",
              "    fill: var(--fill-color);\n",
              "    height: 32px;\n",
              "    padding: 0;\n",
              "    width: 32px;\n",
              "  }\n",
              "\n",
              "  .colab-df-quickchart:hover {\n",
              "    background-color: var(--hover-bg-color);\n",
              "    box-shadow: 0 1px 2px rgba(60, 64, 67, 0.3), 0 1px 3px 1px rgba(60, 64, 67, 0.15);\n",
              "    fill: var(--button-hover-fill-color);\n",
              "  }\n",
              "\n",
              "  .colab-df-quickchart-complete:disabled,\n",
              "  .colab-df-quickchart-complete:disabled:hover {\n",
              "    background-color: var(--disabled-bg-color);\n",
              "    fill: var(--disabled-fill-color);\n",
              "    box-shadow: none;\n",
              "  }\n",
              "\n",
              "  .colab-df-spinner {\n",
              "    border: 2px solid var(--fill-color);\n",
              "    border-color: transparent;\n",
              "    border-bottom-color: var(--fill-color);\n",
              "    animation:\n",
              "      spin 1s steps(1) infinite;\n",
              "  }\n",
              "\n",
              "  @keyframes spin {\n",
              "    0% {\n",
              "      border-color: transparent;\n",
              "      border-bottom-color: var(--fill-color);\n",
              "      border-left-color: var(--fill-color);\n",
              "    }\n",
              "    20% {\n",
              "      border-color: transparent;\n",
              "      border-left-color: var(--fill-color);\n",
              "      border-top-color: var(--fill-color);\n",
              "    }\n",
              "    30% {\n",
              "      border-color: transparent;\n",
              "      border-left-color: var(--fill-color);\n",
              "      border-top-color: var(--fill-color);\n",
              "      border-right-color: var(--fill-color);\n",
              "    }\n",
              "    40% {\n",
              "      border-color: transparent;\n",
              "      border-right-color: var(--fill-color);\n",
              "      border-top-color: var(--fill-color);\n",
              "    }\n",
              "    60% {\n",
              "      border-color: transparent;\n",
              "      border-right-color: var(--fill-color);\n",
              "    }\n",
              "    80% {\n",
              "      border-color: transparent;\n",
              "      border-right-color: var(--fill-color);\n",
              "      border-bottom-color: var(--fill-color);\n",
              "    }\n",
              "    90% {\n",
              "      border-color: transparent;\n",
              "      border-bottom-color: var(--fill-color);\n",
              "    }\n",
              "  }\n",
              "</style>\n",
              "\n",
              "      <script>\n",
              "        async function quickchart(key) {\n",
              "          const quickchartButtonEl =\n",
              "            document.querySelector('#' + key + ' button');\n",
              "          quickchartButtonEl.disabled = true;  // To prevent multiple clicks.\n",
              "          quickchartButtonEl.classList.add('colab-df-spinner');\n",
              "          try {\n",
              "            const charts = await google.colab.kernel.invokeFunction(\n",
              "                'suggestCharts', [key], {});\n",
              "          } catch (error) {\n",
              "            console.error('Error during call to suggestCharts:', error);\n",
              "          }\n",
              "          quickchartButtonEl.classList.remove('colab-df-spinner');\n",
              "          quickchartButtonEl.classList.add('colab-df-quickchart-complete');\n",
              "        }\n",
              "        (() => {\n",
              "          let quickchartButtonEl =\n",
              "            document.querySelector('#df-1edfb182-edf0-4ff4-83ff-d5bf612f5f5e button');\n",
              "          quickchartButtonEl.style.display =\n",
              "            google.colab.kernel.accessAllowed ? 'block' : 'none';\n",
              "        })();\n",
              "      </script>\n",
              "    </div>\n",
              "\n",
              "    </div>\n",
              "  </div>\n"
            ],
            "application/vnd.google.colaboratory.intrinsic+json": {
              "type": "dataframe",
              "summary": "{\n  \"name\": \"display(rating\",\n  \"rows\": 5,\n  \"fields\": [\n    {\n      \"column\": \"userId\",\n      \"properties\": {\n        \"dtype\": \"number\",\n        \"std\": 0,\n        \"min\": 1,\n        \"max\": 1,\n        \"num_unique_values\": 1,\n        \"samples\": [\n          1\n        ],\n        \"semantic_type\": \"\",\n        \"description\": \"\"\n      }\n    },\n    {\n      \"column\": \"movieId\",\n      \"properties\": {\n        \"dtype\": \"number\",\n        \"std\": 24,\n        \"min\": 1,\n        \"max\": 50,\n        \"num_unique_values\": 5,\n        \"samples\": [\n          3\n        ],\n        \"semantic_type\": \"\",\n        \"description\": \"\"\n      }\n    },\n    {\n      \"column\": \"rating\",\n      \"properties\": {\n        \"dtype\": \"number\",\n        \"std\": 0.5477225575051662,\n        \"min\": 4.0,\n        \"max\": 5.0,\n        \"num_unique_values\": 2,\n        \"samples\": [\n          5.0\n        ],\n        \"semantic_type\": \"\",\n        \"description\": \"\"\n      }\n    },\n    {\n      \"column\": \"timestamp\",\n      \"properties\": {\n        \"dtype\": \"number\",\n        \"std\": 944,\n        \"min\": 964981247,\n        \"max\": 964983815,\n        \"num_unique_values\": 5,\n        \"samples\": [\n          964981247\n        ],\n        \"semantic_type\": \"\",\n        \"description\": \"\"\n      }\n    }\n  ]\n}"
            }
          },
          "metadata": {}
        }
      ]
    },
    {
      "cell_type": "markdown",
      "source": [
        "## Univariate EDA\n",
        "Bagian ini fokus pada analisis deskriptif variabel tunggal dalam dataset. Ini mencakup pemeriksaan informasi umum dataset, pengecekan missing values, visualisasi distribusi rating, identifikasi film dengan rating terbanyak, dan analisis film dengan rata-rata rating tertinggi. Tujuannya adalah untuk memahami karakteristik dasar data."
      ],
      "metadata": {
        "id": "6TG2M12tMDrV"
      }
    },
    {
      "cell_type": "markdown",
      "source": [
        "Menampilkan informasi umum tentang struktur data (info()) dan memeriksa apakah ada nilai yang hilang (isnull().sum()) di kedua DataFrame."
      ],
      "metadata": {
        "id": "f1QJUXnIKy7U"
      }
    },
    {
      "cell_type": "code",
      "source": [
        "# Menampilkan informasi umum dari kedua dataset\n",
        "print(\"Informasi dataset Movies:\")\n",
        "print(movies.info())\n",
        "\n",
        "print(\"\\nInformasi dataset Ratings:\")\n",
        "print(rating.info())\n",
        "\n",
        "# Cek missing values\n",
        "print(\"\\nCek missing values:\")\n",
        "print(\"Movies:\\n\", movies.isnull().sum())\n",
        "print(\"Ratings:\\n\", rating.isnull().sum())"
      ],
      "metadata": {
        "colab": {
          "base_uri": "https://localhost:8080/"
        },
        "id": "SAEqGBYPIpRA",
        "outputId": "18a0c46a-278b-4e73-dfb4-887f6e354967"
      },
      "execution_count": null,
      "outputs": [
        {
          "output_type": "stream",
          "name": "stdout",
          "text": [
            "Informasi dataset Movies:\n",
            "<class 'pandas.core.frame.DataFrame'>\n",
            "RangeIndex: 9742 entries, 0 to 9741\n",
            "Data columns (total 3 columns):\n",
            " #   Column   Non-Null Count  Dtype \n",
            "---  ------   --------------  ----- \n",
            " 0   movieId  9742 non-null   int64 \n",
            " 1   title    9742 non-null   object\n",
            " 2   genres   9742 non-null   object\n",
            "dtypes: int64(1), object(2)\n",
            "memory usage: 228.5+ KB\n",
            "None\n",
            "\n",
            "Informasi dataset Ratings:\n",
            "<class 'pandas.core.frame.DataFrame'>\n",
            "RangeIndex: 100836 entries, 0 to 100835\n",
            "Data columns (total 4 columns):\n",
            " #   Column     Non-Null Count   Dtype  \n",
            "---  ------     --------------   -----  \n",
            " 0   userId     100836 non-null  int64  \n",
            " 1   movieId    100836 non-null  int64  \n",
            " 2   rating     100836 non-null  float64\n",
            " 3   timestamp  100836 non-null  int64  \n",
            "dtypes: float64(1), int64(3)\n",
            "memory usage: 3.1 MB\n",
            "None\n",
            "\n",
            "Cek missing values:\n",
            "Movies:\n",
            " movieId    0\n",
            "title      0\n",
            "genres     0\n",
            "dtype: int64\n",
            "Ratings:\n",
            " userId       0\n",
            "movieId      0\n",
            "rating       0\n",
            "timestamp    0\n",
            "dtype: int64\n"
          ]
        }
      ]
    },
    {
      "cell_type": "markdown",
      "source": [
        " Membuat histogram untuk memvisualisasikan distribusi nilai rating dalam dataset rating."
      ],
      "metadata": {
        "id": "uEeTXdwvLHGQ"
      }
    },
    {
      "cell_type": "code",
      "source": [
        "plt.figure(figsize=(8, 5))\n",
        "sns.histplot(rating['rating'], bins=10, kde=True)\n",
        "plt.title('Distribusi Rating Film')\n",
        "plt.xlabel('Rating')\n",
        "plt.ylabel('Jumlah')\n",
        "plt.grid(True)\n",
        "plt.show()"
      ],
      "metadata": {
        "colab": {
          "base_uri": "https://localhost:8080/",
          "height": 487
        },
        "id": "zs6fMl4nLKbU",
        "outputId": "fe5ec18f-0660-4811-afd5-8f53ca700820"
      },
      "execution_count": null,
      "outputs": [
        {
          "output_type": "display_data",
          "data": {
            "text/plain": [
              "<Figure size 800x500 with 1 Axes>"
            ],
            "image/png": "[encoded data removed]"
          },
          "metadata": {}
        }
      ]
    },
    {
      "cell_type": "markdown",
      "source": [
        "Menghitung jumlah rating untuk setiap film, mengidentifikasi 20 film teratas dengan rating terbanyak, dan memvisualisasikannya dalam bentuk bar plot."
      ],
      "metadata": {
        "id": "xOXEKr6MLQq6"
      }
    },
    {
      "cell_type": "code",
      "source": [
        "# Hitung jumlah rating untuk setiap movie\n",
        "rating_count = rating['movieId'].value_counts().head(20)\n",
        "\n",
        "# Gabungkan dengan judul film\n",
        "top_movies = movies[movies['movieId'].isin(rating_count.index)]\n",
        "\n",
        "# Visualisasi film dengan rating terbanyak\n",
        "plt.figure(figsize=(12, 6))\n",
        "sns.barplot(x='title', y='movieId', data=top_movies.set_index('movieId').loc[rating_count.index].reset_index(), palette='viridis')\n",
        "plt.xticks(rotation=90)\n",
        "plt.title('20 Film dengan Jumlah Rating Terbanyak')\n",
        "plt.xlabel('Judul Film')\n",
        "plt.ylabel('Jumlah Rating')\n",
        "plt.show()"
      ],
      "metadata": {
        "colab": {
          "base_uri": "https://localhost:8080/",
          "height": 1000
        },
        "id": "fMSqrGB5LVlC",
        "outputId": "71d1e903-51fb-46d1-859d-31df9d875a71"
      },
      "execution_count": null,
      "outputs": [
        {
          "output_type": "stream",
          "name": "stderr",
          "text": [
            "<ipython-input-5-045cccb9bd6e>:9: FutureWarning: \n",
            "\n",
            "Passing `palette` without assigning `hue` is deprecated and will be removed in v0.14.0. Assign the `x` variable to `hue` and set `legend=False` for the same effect.\n",
            "\n",
            "  sns.barplot(x='title', y='movieId', data=top_movies.set_index('movieId').loc[rating_count.index].reset_index(), palette='viridis')\n"
          ]
        },
        {
          "output_type": "display_data",
          "data": {
            "text/plain": [
              "<Figure size 1200x600 with 1 Axes>"
            ],
            "image/png": "[encoded data removed]"
          },
          "metadata": {}
        }
      ]
    },
    {
      "cell_type": "markdown",
      "source": [
        "Menghitung rata-rata rating dan jumlah rating untuk setiap film, kemudian menampilkan 10 film dengan rata-rata rating tertinggi yang memiliki minimal 50 rating, dan memvisualisasikannya."
      ],
      "metadata": {
        "id": "ULvPlK0vLdJk"
      }
    },
    {
      "cell_type": "code",
      "source": [
        "# Menghitung rata-rata rating per movie\n",
        "mean_ratings = rating.groupby('movieId')['rating'].mean()\n",
        "\n",
        "# Gabungkan dengan jumlah rating\n",
        "movie_stats = rating.groupby('movieId').agg({'rating': ['mean', 'count']})\n",
        "movie_stats.columns = ['mean_rating', 'rating_count']\n",
        "movie_stats = movie_stats.reset_index()\n",
        "\n",
        "# Gabungkan dengan judul film\n",
        "movie_stats = movie_stats.merge(movies, on='movieId')\n",
        "\n",
        "# Tampilkan 10 film dengan rata-rata rating tertinggi (min 50 rating)\n",
        "top_rated_movies = movie_stats[movie_stats['rating_count'] >= 50].sort_values(by='mean_rating', ascending=False).head(10)\n",
        "\n",
        "# Visualisasi\n",
        "plt.figure(figsize=(12, 6))\n",
        "sns.barplot(x='title', y='mean_rating', data=top_rated_movies, palette='rocket')\n",
        "plt.xticks(rotation=90)\n",
        "plt.title('10 Film dengan Rata-rata Rating Tertinggi (≥ 50 rating)')\n",
        "plt.xlabel('Judul Film')\n",
        "plt.ylabel('Rata-rata Rating')\n",
        "plt.show()"
      ],
      "metadata": {
        "colab": {
          "base_uri": "https://localhost:8080/",
          "height": 1000
        },
        "id": "RZkHv7T5LcGO",
        "outputId": "796d694e-948f-4314-f146-fecd592080f0"
      },
      "execution_count": null,
      "outputs": [
        {
          "output_type": "stream",
          "name": "stderr",
          "text": [
            "<ipython-input-6-4685ea7e5f88>:17: FutureWarning: \n",
            "\n",
            "Passing `palette` without assigning `hue` is deprecated and will be removed in v0.14.0. Assign the `x` variable to `hue` and set `legend=False` for the same effect.\n",
            "\n",
            "  sns.barplot(x='title', y='mean_rating', data=top_rated_movies, palette='rocket')\n"
          ]
        },
        {
          "output_type": "display_data",
          "data": {
            "text/plain": [
              "<Figure size 1200x600 with 1 Axes>"
            ],
            "image/png": "[encoded data removed]"
          },
          "metadata": {}
        }
      ]
    },
    {
      "cell_type": "markdown",
      "source": [
        "Memproses kolom genre dengan memisahkan string genre menjadi list, menghitung frekuensi setiap genre, dan memvisualisasikan jumlah film per genre dalam bar plot."
      ],
      "metadata": {
        "id": "aV3e-3ItLs6k"
      }
    },
    {
      "cell_type": "code",
      "source": [
        "# Pecah genre menjadi list\n",
        "movies['genres'] = movies['genres'].apply(lambda x: x.split('|'))\n",
        "\n",
        "# Hitung jumlah masing-masing genre\n",
        "from collections import Counter\n",
        "genre_counter = Counter([genre for genres in movies['genres'] for genre in genres])\n",
        "genre_df = pd.DataFrame(genre_counter.items(), columns=['Genre', 'Jumlah Film']).sort_values(by='Jumlah Film', ascending=False)\n",
        "\n",
        "# Visualisasi\n",
        "plt.figure(figsize=(10, 6))\n",
        "sns.barplot(x='Jumlah Film', y='Genre', data=genre_df, palette='cubehelix')\n",
        "plt.title('Jumlah Film per Genre')\n",
        "plt.xlabel('Jumlah Film')\n",
        "plt.ylabel('Genre')\n",
        "plt.show()"
      ],
      "metadata": {
        "colab": {
          "base_uri": "https://localhost:8080/",
          "height": 651
        },
        "id": "rWlYHPWTLm0A",
        "outputId": "06840f9b-995f-45d3-9c29-15bbdc7b0ea6"
      },
      "execution_count": null,
      "outputs": [
        {
          "output_type": "stream",
          "name": "stderr",
          "text": [
            "<ipython-input-7-4ad46bee8aef>:11: FutureWarning: \n",
            "\n",
            "Passing `palette` without assigning `hue` is deprecated and will be removed in v0.14.0. Assign the `y` variable to `hue` and set `legend=False` for the same effect.\n",
            "\n",
            "  sns.barplot(x='Jumlah Film', y='Genre', data=genre_df, palette='cubehelix')\n"
          ]
        },
        {
          "output_type": "display_data",
          "data": {
            "text/plain": [
              "<Figure size 1000x600 with 1 Axes>"
            ],
            "image/png": "[encoded data removed]"
          },
          "metadata": {}
        }
      ]
    },
    {
      "cell_type": "markdown",
      "source": [
        "Mengkonversi kolom timestamp di dataset rating menjadi format datetime, mengekstrak tahun rating, dan memvisualisasikan jumlah rating per tahun."
      ],
      "metadata": {
        "id": "wFZkGFv1L1nO"
      }
    },
    {
      "cell_type": "code",
      "source": [
        "# Konversi timestamp ke datetime\n",
        "rating['datetime'] = pd.to_datetime(rating['timestamp'], unit='s')\n",
        "\n",
        "# Buat kolom tahun rating\n",
        "rating['year'] = rating['datetime'].dt.year\n",
        "\n",
        "# Visualisasi jumlah rating per tahun\n",
        "plt.figure(figsize=(10, 5))\n",
        "sns.countplot(x='year', data=rating, palette='crest')\n",
        "plt.xticks(rotation=45)\n",
        "plt.title('Jumlah Rating per Tahun')\n",
        "plt.xlabel('Tahun')\n",
        "plt.ylabel('Jumlah Rating')\n",
        "plt.show()"
      ],
      "metadata": {
        "colab": {
          "base_uri": "https://localhost:8080/",
          "height": 595
        },
        "id": "c6UDjGgvLzk_",
        "outputId": "ee63a3b2-b440-439b-fb02-48c79af81d36"
      },
      "execution_count": null,
      "outputs": [
        {
          "output_type": "stream",
          "name": "stderr",
          "text": [
            "<ipython-input-8-a55b464d24d7>:9: FutureWarning: \n",
            "\n",
            "Passing `palette` without assigning `hue` is deprecated and will be removed in v0.14.0. Assign the `x` variable to `hue` and set `legend=False` for the same effect.\n",
            "\n",
            "  sns.countplot(x='year', data=rating, palette='crest')\n"
          ]
        },
        {
          "output_type": "display_data",
          "data": {
            "text/plain": [
              "<Figure size 1000x500 with 1 Axes>"
            ],
            "image/png": "[encoded data removed]"
          },
          "metadata": {}
        }
      ]
    },
    {
      "cell_type": "markdown",
      "source": [
        "## Data Preprocessing\n",
        "\n",
        "Bagian ini melakukan langkah-langkah untuk membersihkan dan menyiapkan data sebelum digunakan dalam model rekomendasi. Ini mencakup penghapusan duplikat, pemrosesan kolom genre menggunakan one-hot encoding, konversi timestamp ke format datetime, dan penggabungan dataset movies dan ratings.\n"
      ],
      "metadata": {
        "id": "BKYPHfh9M_Dl"
      }
    },
    {
      "cell_type": "markdown",
      "source": [
        " Menghapus baris duplikat dari DataFrame movies dan rating."
      ],
      "metadata": {
        "id": "tRCJNUfLTN5B"
      }
    },
    {
      "cell_type": "code",
      "source": [
        "movies.drop_duplicates(subset=['movieId', 'title'], inplace=True)\n",
        "rating.drop_duplicates(inplace=True)"
      ],
      "metadata": {
        "id": "RA_J7fWgTLKm"
      },
      "execution_count": null,
      "outputs": []
    },
    {
      "cell_type": "markdown",
      "source": [
        " Memastikan kolom 'genres' di DataFrame movies adalah list dengan memisahkannya berdasarkan delimiter '|'."
      ],
      "metadata": {
        "id": "HRPmjprFTQmw"
      }
    },
    {
      "cell_type": "code",
      "source": [
        "if isinstance(movies['genres'].iloc[0], str):\n",
        "    movies['genres'] = movies['genres'].apply(lambda x: x.split('|'))"
      ],
      "metadata": {
        "id": "BmGsoaVKTZrg"
      },
      "execution_count": null,
      "outputs": []
    },
    {
      "cell_type": "markdown",
      "source": [
        " Menggunakan MultiLabelBinarizer untuk melakukan one-hot encoding pada kolom genre, mengubah list genre menjadi kolom biner untuk setiap genre."
      ],
      "metadata": {
        "id": "R2cIdwaDTbt3"
      }
    },
    {
      "cell_type": "code",
      "source": [
        "mlb = MultiLabelBinarizer()\n",
        "genre_matrix = pd.DataFrame(mlb.fit_transform(movies['genres']), columns=mlb.classes_)"
      ],
      "metadata": {
        "id": "RPVrh2UlTfXz"
      },
      "execution_count": null,
      "outputs": []
    },
    {
      "cell_type": "markdown",
      "source": [
        "Menggabungkan matriks genre yang sudah di-one-hot encode dengan kolom movieId dan title dari DataFrame movies."
      ],
      "metadata": {
        "id": "sKEvqI7zTiFt"
      }
    },
    {
      "cell_type": "code",
      "source": [
        "movies = pd.concat([movies[['movieId', 'title']], genre_matrix], axis=1)"
      ],
      "metadata": {
        "id": "h3R0KrAJTlrk"
      },
      "execution_count": null,
      "outputs": []
    },
    {
      "cell_type": "markdown",
      "source": [
        "Mengkonversi kolom timestamp di DataFrame rating menjadi objek datetime menggunakan pd.to_datetime."
      ],
      "metadata": {
        "id": "h_O9M2-dTpmR"
      }
    },
    {
      "cell_type": "code",
      "source": [
        "rating['datetime'] = pd.to_datetime(rating['timestamp'], unit='s')"
      ],
      "metadata": {
        "id": "LudxFdPFTo4G"
      },
      "execution_count": null,
      "outputs": []
    },
    {
      "cell_type": "markdown",
      "source": [
        " Menambahkan kolom baru 'rating_year' ke DataFrame rating yang berisi tahun dari kolom datetime yang baru dibuat."
      ],
      "metadata": {
        "id": "W1oMi_hBTsX-"
      }
    },
    {
      "cell_type": "code",
      "source": [
        "rating['rating_year'] = rating['datetime'].dt.year"
      ],
      "metadata": {
        "id": "OJhOIWwJTu2U"
      },
      "execution_count": null,
      "outputs": []
    },
    {
      "cell_type": "markdown",
      "source": [
        "Menggabungkan DataFrame rating dan movies berdasarkan kolom movieId, menampilkan jumlah data setelah penggabungan, dan menampilkan beberapa baris pertama dari DataFrame gabungan."
      ],
      "metadata": {
        "id": "ADUWZFlvT0sS"
      }
    },
    {
      "cell_type": "code",
      "source": [
        "movie_rating = pd.merge(rating, movies, on='movieId', how='inner')\n",
        "\n",
        "# Tampilkan jumlah data akhir\n",
        "print(\"Jumlah data setelah preprocessing:\")\n",
        "print(\"Movies:\", len(movies))\n",
        "print(\"Ratings:\", len(rating))\n",
        "print(\"Gabungan Movie-Rating:\", len(movie_rating))\n",
        "\n",
        "# Tampilkan 5 baris pertama untuk verifikasi\n",
        "movie_rating.head()"
      ],
      "metadata": {
        "colab": {
          "base_uri": "https://localhost:8080/",
          "height": 409
        },
        "id": "L97hPF4oTx42",
        "outputId": "fa7d8b0e-db51-4fba-a54a-fbe39a741f6c"
      },
      "execution_count": null,
      "outputs": [
        {
          "output_type": "stream",
          "name": "stdout",
          "text": [
            "Jumlah data setelah preprocessing:\n",
            "Movies: 9742\n",
            "Ratings: 100836\n",
            "Gabungan Movie-Rating: 100836\n"
          ]
        },
        {
          "output_type": "execute_result",
          "data": {
            "text/plain": [
              "   userId  movieId  rating  timestamp            datetime  year  rating_year  \\\n",
              "0       1        1     4.0  964982703 2000-07-30 18:45:03  2000         2000   \n",
              "1       1        3     4.0  964981247 2000-07-30 18:20:47  2000         2000   \n",
              "2       1        6     4.0  964982224 2000-07-30 18:37:04  2000         2000   \n",
              "3       1       47     5.0  964983815 2000-07-30 19:03:35  2000         2000   \n",
              "4       1       50     5.0  964982931 2000-07-30 18:48:51  2000         2000   \n",
              "\n",
              "                         title  (no genres listed)  Action  ...  Film-Noir  \\\n",
              "0             Toy Story (1995)                   0       0  ...          0   \n",
              "1      Grumpier Old Men (1995)                   0       0  ...          0   \n",
              "2                  Heat (1995)                   0       1  ...          0   \n",
              "3  Seven (a.k.a. Se7en) (1995)                   0       0  ...          0   \n",
              "4   Usual Suspects, The (1995)                   0       0  ...          0   \n",
              "\n",
              "   Horror  IMAX  Musical  Mystery  Romance  Sci-Fi  Thriller  War  Western  \n",
              "0       0     0        0        0        0       0         0    0        0  \n",
              "1       0     0        0        0        1       0         0    0        0  \n",
              "2       0     0        0        0        0       0         1    0        0  \n",
              "3       0     0        0        1        0       0         1    0        0  \n",
              "4       0     0        0        1        0       0         1    0        0  \n",
              "\n",
              "[5 rows x 28 columns]"
            ],
            "text/html": [
              "\n",
              "  <div id=\"df-dae4068a-05e3-44a7-8d2b-d22aa62c58fc\" class=\"colab-df-container\">\n",
              "    <div>\n",
              "<style scoped>\n",
              "    .dataframe tbody tr th:only-of-type {\n",
              "        vertical-align: middle;\n",
              "    }\n",
              "\n",
              "    .dataframe tbody tr th {\n",
              "        vertical-align: top;\n",
              "    }\n",
              "\n",
              "    .dataframe thead th {\n",
              "        text-align: right;\n",
              "    }\n",
              "</style>\n",
              "<table border=\"1\" class=\"dataframe\">\n",
              "  <thead>\n",
              "    <tr style=\"text-align: right;\">\n",
              "      <th></th>\n",
              "      <th>userId</th>\n",
              "      <th>movieId</th>\n",
              "      <th>rating</th>\n",
              "      <th>timestamp</th>\n",
              "      <th>datetime</th>\n",
              "      <th>year</th>\n",
              "      <th>rating_year</th>\n",
              "      <th>title</th>\n",
              "      <th>(no genres listed)</th>\n",
              "      <th>Action</th>\n",
              "      <th>...</th>\n",
              "      <th>Film-Noir</th>\n",
              "      <th>Horror</th>\n",
              "      <th>IMAX</th>\n",
              "      <th>Musical</th>\n",
              "      <th>Mystery</th>\n",
              "      <th>Romance</th>\n",
              "      <th>Sci-Fi</th>\n",
              "      <th>Thriller</th>\n",
              "      <th>War</th>\n",
              "      <th>Western</th>\n",
              "    </tr>\n",
              "  </thead>\n",
              "  <tbody>\n",
              "    <tr>\n",
              "      <th>0</th>\n",
              "      <td>1</td>\n",
              "      <td>1</td>\n",
              "      <td>4.0</td>\n",
              "      <td>964982703</td>\n",
              "      <td>2000-07-30 18:45:03</td>\n",
              "      <td>2000</td>\n",
              "      <td>2000</td>\n",
              "      <td>Toy Story (1995)</td>\n",
              "      <td>0</td>\n",
              "      <td>0</td>\n",
              "      <td>...</td>\n",
              "      <td>0</td>\n",
              "      <td>0</td>\n",
              "      <td>0</td>\n",
              "      <td>0</td>\n",
              "      <td>0</td>\n",
              "      <td>0</td>\n",
              "      <td>0</td>\n",
              "      <td>0</td>\n",
              "      <td>0</td>\n",
              "      <td>0</td>\n",
              "    </tr>\n",
              "    <tr>\n",
              "      <th>1</th>\n",
              "      <td>1</td>\n",
              "      <td>3</td>\n",
              "      <td>4.0</td>\n",
              "      <td>964981247</td>\n",
              "      <td>2000-07-30 18:20:47</td>\n",
              "      <td>2000</td>\n",
              "      <td>2000</td>\n",
              "      <td>Grumpier Old Men (1995)</td>\n",
              "      <td>0</td>\n",
              "      <td>0</td>\n",
              "      <td>...</td>\n",
              "      <td>0</td>\n",
              "      <td>0</td>\n",
              "      <td>0</td>\n",
              "      <td>0</td>\n",
              "      <td>0</td>\n",
              "      <td>1</td>\n",
              "      <td>0</td>\n",
              "      <td>0</td>\n",
              "      <td>0</td>\n",
              "      <td>0</td>\n",
              "    </tr>\n",
              "    <tr>\n",
              "      <th>2</th>\n",
              "      <td>1</td>\n",
              "      <td>6</td>\n",
              "      <td>4.0</td>\n",
              "      <td>964982224</td>\n",
              "      <td>2000-07-30 18:37:04</td>\n",
              "      <td>2000</td>\n",
              "      <td>2000</td>\n",
              "      <td>Heat (1995)</td>\n",
              "      <td>0</td>\n",
              "      <td>1</td>\n",
              "      <td>...</td>\n",
              "      <td>0</td>\n",
              "      <td>0</td>\n",
              "      <td>0</td>\n",
              "      <td>0</td>\n",
              "      <td>0</td>\n",
              "      <td>0</td>\n",
              "      <td>0</td>\n",
              "      <td>1</td>\n",
              "      <td>0</td>\n",
              "      <td>0</td>\n",
              "    </tr>\n",
              "    <tr>\n",
              "      <th>3</th>\n",
              "      <td>1</td>\n",
              "      <td>47</td>\n",
              "      <td>5.0</td>\n",
              "      <td>964983815</td>\n",
              "      <td>2000-07-30 19:03:35</td>\n",
              "      <td>2000</td>\n",
              "      <td>2000</td>\n",
              "      <td>Seven (a.k.a. Se7en) (1995)</td>\n",
              "      <td>0</td>\n",
              "      <td>0</td>\n",
              "      <td>...</td>\n",
              "      <td>0</td>\n",
              "      <td>0</td>\n",
              "      <td>0</td>\n",
              "      <td>0</td>\n",
              "      <td>1</td>\n",
              "      <td>0</td>\n",
              "      <td>0</td>\n",
              "      <td>1</td>\n",
              "      <td>0</td>\n",
              "      <td>0</td>\n",
              "    </tr>\n",
              "    <tr>\n",
              "      <th>4</th>\n",
              "      <td>1</td>\n",
              "      <td>50</td>\n",
              "      <td>5.0</td>\n",
              "      <td>964982931</td>\n",
              "      <td>2000-07-30 18:48:51</td>\n",
              "      <td>2000</td>\n",
              "      <td>2000</td>\n",
              "      <td>Usual Suspects, The (1995)</td>\n",
              "      <td>0</td>\n",
              "      <td>0</td>\n",
              "      <td>...</td>\n",
              "      <td>0</td>\n",
              "      <td>0</td>\n",
              "      <td>0</td>\n",
              "      <td>0</td>\n",
              "      <td>1</td>\n",
              "      <td>0</td>\n",
              "      <td>0</td>\n",
              "      <td>1</td>\n",
              "      <td>0</td>\n",
              "      <td>0</td>\n",
              "    </tr>\n",
              "  </tbody>\n",
              "</table>\n",
              "<p>5 rows × 28 columns</p>\n",
              "</div>\n",
              "    <div class=\"colab-df-buttons\">\n",
              "\n",
              "  <div class=\"colab-df-container\">\n",
              "    <button class=\"colab-df-convert\" onclick=\"convertToInteractive('df-dae4068a-05e3-44a7-8d2b-d22aa62c58fc')\"\n",
              "            title=\"Convert this dataframe to an interactive table.\"\n",
              "            style=\"display:none;\">\n",
              "\n",
              "  <svg xmlns=\"http://www.w3.org/2000/svg\" height=\"24px\" viewBox=\"0 -960 960 960\">\n",
              "    <path d=\"M120-120v-720h720v720H120Zm60-500h600v-160H180v160Zm220 220h160v-160H400v160Zm0 220h160v-160H400v160ZM180-400h160v-160H180v160Zm440 0h160v-160H620v160ZM180-180h160v-160H180v160Zm440 0h160v-160H620v160Z\"/>\n",
              "  </svg>\n",
              "    </button>\n",
              "\n",
              "  <style>\n",
              "    .colab-df-container {\n",
              "      display:flex;\n",
              "      gap: 12px;\n",
              "    }\n",
              "\n",
              "    .colab-df-convert {\n",
              "      background-color: #E8F0FE;\n",
              "      border: none;\n",
              "      border-radius: 50%;\n",
              "      cursor: pointer;\n",
              "      display: none;\n",
              "      fill: #1967D2;\n",
              "      height: 32px;\n",
              "      padding: 0 0 0 0;\n",
              "      width: 32px;\n",
              "    }\n",
              "\n",
              "    .colab-df-convert:hover {\n",
              "      background-color: #E2EBFA;\n",
              "      box-shadow: 0px 1px 2px rgba(60, 64, 67, 0.3), 0px 1px 3px 1px rgba(60, 64, 67, 0.15);\n",
              "      fill: #174EA6;\n",
              "    }\n",
              "\n",
              "    .colab-df-buttons div {\n",
              "      margin-bottom: 4px;\n",
              "    }\n",
              "\n",
              "    [theme=dark] .colab-df-convert {\n",
              "      background-color: #3B4455;\n",
              "      fill: #D2E3FC;\n",
              "    }\n",
              "\n",
              "    [theme=dark] .colab-df-convert:hover {\n",
              "      background-color: #434B5C;\n",
              "      box-shadow: 0px 1px 3px 1px rgba(0, 0, 0, 0.15);\n",
              "      filter: drop-shadow(0px 1px 2px rgba(0, 0, 0, 0.3));\n",
              "      fill: #FFFFFF;\n",
              "    }\n",
              "  </style>\n",
              "\n",
              "    <script>\n",
              "      const buttonEl =\n",
              "        document.querySelector('#df-dae4068a-05e3-44a7-8d2b-d22aa62c58fc button.colab-df-convert');\n",
              "      buttonEl.style.display =\n",
              "        google.colab.kernel.accessAllowed ? 'block' : 'none';\n",
              "\n",
              "      async function convertToInteractive(key) {\n",
              "        const element = document.querySelector('#df-dae4068a-05e3-44a7-8d2b-d22aa62c58fc');\n",
              "        const dataTable =\n",
              "          await google.colab.kernel.invokeFunction('convertToInteractive',\n",
              "                                                    [key], {});\n",
              "        if (!dataTable) return;\n",
              "\n",
              "        const docLinkHtml = 'Like what you see? Visit the ' +\n",
              "          '<a target=\"_blank\" href=https://colab.research.google.com/notebooks/data_table.ipynb>data table notebook</a>'\n",
              "          + ' to learn more about interactive tables.';\n",
              "        element.innerHTML = '';\n",
              "        dataTable['output_type'] = 'display_data';\n",
              "        await google.colab.output.renderOutput(dataTable, element);\n",
              "        const docLink = document.createElement('div');\n",
              "        docLink.innerHTML = docLinkHtml;\n",
              "        element.appendChild(docLink);\n",
              "      }\n",
              "    </script>\n",
              "  </div>\n",
              "\n",
              "\n",
              "    <div id=\"df-c603e807-299e-4a1f-9108-556deb9457f4\">\n",
              "      <button class=\"colab-df-quickchart\" onclick=\"quickchart('df-c603e807-299e-4a1f-9108-556deb9457f4')\"\n",
              "                title=\"Suggest charts\"\n",
              "                style=\"display:none;\">\n",
              "\n",
              "<svg xmlns=\"http://www.w3.org/2000/svg\" height=\"24px\"viewBox=\"0 0 24 24\"\n",
              "     width=\"24px\">\n",
              "    <g>\n",
              "        <path d=\"M19 3H5c-1.1 0-2 .9-2 2v14c0 1.1.9 2 2 2h14c1.1 0 2-.9 2-2V5c0-1.1-.9-2-2-2zM9 17H7v-7h2v7zm4 0h-2V7h2v10zm4 0h-2v-4h2v4z\"/>\n",
              "    </g>\n",
              "</svg>\n",
              "      </button>\n",
              "\n",
              "<style>\n",
              "  .colab-df-quickchart {\n",
              "      --bg-color: #E8F0FE;\n",
              "      --fill-color: #1967D2;\n",
              "      --hover-bg-color: #E2EBFA;\n",
              "      --hover-fill-color: #174EA6;\n",
              "      --disabled-fill-color: #AAA;\n",
              "      --disabled-bg-color: #DDD;\n",
              "  }\n",
              "\n",
              "  [theme=dark] .colab-df-quickchart {\n",
              "      --bg-color: #3B4455;\n",
              "      --fill-color: #D2E3FC;\n",
              "      --hover-bg-color: #434B5C;\n",
              "      --hover-fill-color: #FFFFFF;\n",
              "      --disabled-bg-color: #3B4455;\n",
              "      --disabled-fill-color: #666;\n",
              "  }\n",
              "\n",
              "  .colab-df-quickchart {\n",
              "    background-color: var(--bg-color);\n",
              "    border: none;\n",
              "    border-radius: 50%;\n",
              "    cursor: pointer;\n",
              "    display: none;\n",
              "    fill: var(--fill-color);\n",
              "    height: 32px;\n",
              "    padding: 0;\n",
              "    width: 32px;\n",
              "  }\n",
              "\n",
              "  .colab-df-quickchart:hover {\n",
              "    background-color: var(--hover-bg-color);\n",
              "    box-shadow: 0 1px 2px rgba(60, 64, 67, 0.3), 0 1px 3px 1px rgba(60, 64, 67, 0.15);\n",
              "    fill: var(--button-hover-fill-color);\n",
              "  }\n",
              "\n",
              "  .colab-df-quickchart-complete:disabled,\n",
              "  .colab-df-quickchart-complete:disabled:hover {\n",
              "    background-color: var(--disabled-bg-color);\n",
              "    fill: var(--disabled-fill-color);\n",
              "    box-shadow: none;\n",
              "  }\n",
              "\n",
              "  .colab-df-spinner {\n",
              "    border: 2px solid var(--fill-color);\n",
              "    border-color: transparent;\n",
              "    border-bottom-color: var(--fill-color);\n",
              "    animation:\n",
              "      spin 1s steps(1) infinite;\n",
              "  }\n",
              "\n",
              "  @keyframes spin {\n",
              "    0% {\n",
              "      border-color: transparent;\n",
              "      border-bottom-color: var(--fill-color);\n",
              "      border-left-color: var(--fill-color);\n",
              "    }\n",
              "    20% {\n",
              "      border-color: transparent;\n",
              "      border-left-color: var(--fill-color);\n",
              "      border-top-color: var(--fill-color);\n",
              "    }\n",
              "    30% {\n",
              "      border-color: transparent;\n",
              "      border-left-color: var(--fill-color);\n",
              "      border-top-color: var(--fill-color);\n",
              "      border-right-color: var(--fill-color);\n",
              "    }\n",
              "    40% {\n",
              "      border-color: transparent;\n",
              "      border-right-color: var(--fill-color);\n",
              "      border-top-color: var(--fill-color);\n",
              "    }\n",
              "    60% {\n",
              "      border-color: transparent;\n",
              "      border-right-color: var(--fill-color);\n",
              "    }\n",
              "    80% {\n",
              "      border-color: transparent;\n",
              "      border-right-color: var(--fill-color);\n",
              "      border-bottom-color: var(--fill-color);\n",
              "    }\n",
              "    90% {\n",
              "      border-color: transparent;\n",
              "      border-bottom-color: var(--fill-color);\n",
              "    }\n",
              "  }\n",
              "</style>\n",
              "\n",
              "      <script>\n",
              "        async function quickchart(key) {\n",
              "          const quickchartButtonEl =\n",
              "            document.querySelector('#' + key + ' button');\n",
              "          quickchartButtonEl.disabled = true;  // To prevent multiple clicks.\n",
              "          quickchartButtonEl.classList.add('colab-df-spinner');\n",
              "          try {\n",
              "            const charts = await google.colab.kernel.invokeFunction(\n",
              "                'suggestCharts', [key], {});\n",
              "          } catch (error) {\n",
              "            console.error('Error during call to suggestCharts:', error);\n",
              "          }\n",
              "          quickchartButtonEl.classList.remove('colab-df-spinner');\n",
              "          quickchartButtonEl.classList.add('colab-df-quickchart-complete');\n",
              "        }\n",
              "        (() => {\n",
              "          let quickchartButtonEl =\n",
              "            document.querySelector('#df-c603e807-299e-4a1f-9108-556deb9457f4 button');\n",
              "          quickchartButtonEl.style.display =\n",
              "            google.colab.kernel.accessAllowed ? 'block' : 'none';\n",
              "        })();\n",
              "      </script>\n",
              "    </div>\n",
              "\n",
              "    </div>\n",
              "  </div>\n"
            ],
            "application/vnd.google.colaboratory.intrinsic+json": {
              "type": "dataframe",
              "variable_name": "movie_rating"
            }
          },
          "metadata": {},
          "execution_count": 15
        }
      ]
    },
    {
      "cell_type": "markdown",
      "source": [
        "Menampilkan informasi ringkas tentang DataFrame movie_rating yang sudah digabungkan, termasuk tipe data dan jumlah nilai non-null di setiap kolom."
      ],
      "metadata": {
        "id": "aIQJIx-jUpWy"
      }
    },
    {
      "cell_type": "code",
      "source": [
        "movie_rating.info()"
      ],
      "metadata": {
        "colab": {
          "base_uri": "https://localhost:8080/"
        },
        "id": "OsWeeS0DUbiw",
        "outputId": "7e1e2fad-5a98-468b-ba34-7639550ccf5a"
      },
      "execution_count": null,
      "outputs": [
        {
          "output_type": "stream",
          "name": "stdout",
          "text": [
            "<class 'pandas.core.frame.DataFrame'>\n",
            "RangeIndex: 100836 entries, 0 to 100835\n",
            "Data columns (total 28 columns):\n",
            " #   Column              Non-Null Count   Dtype         \n",
            "---  ------              --------------   -----         \n",
            " 0   userId              100836 non-null  int64         \n",
            " 1   movieId             100836 non-null  int64         \n",
            " 2   rating              100836 non-null  float64       \n",
            " 3   timestamp           100836 non-null  int64         \n",
            " 4   datetime            100836 non-null  datetime64[ns]\n",
            " 5   year                100836 non-null  int32         \n",
            " 6   rating_year         100836 non-null  int32         \n",
            " 7   title               100836 non-null  object        \n",
            " 8   (no genres listed)  100836 non-null  int64         \n",
            " 9   Action              100836 non-null  int64         \n",
            " 10  Adventure           100836 non-null  int64         \n",
            " 11  Animation           100836 non-null  int64         \n",
            " 12  Children            100836 non-null  int64         \n",
            " 13  Comedy              100836 non-null  int64         \n",
            " 14  Crime               100836 non-null  int64         \n",
            " 15  Documentary         100836 non-null  int64         \n",
            " 16  Drama               100836 non-null  int64         \n",
            " 17  Fantasy             100836 non-null  int64         \n",
            " 18  Film-Noir           100836 non-null  int64         \n",
            " 19  Horror              100836 non-null  int64         \n",
            " 20  IMAX                100836 non-null  int64         \n",
            " 21  Musical             100836 non-null  int64         \n",
            " 22  Mystery             100836 non-null  int64         \n",
            " 23  Romance             100836 non-null  int64         \n",
            " 24  Sci-Fi              100836 non-null  int64         \n",
            " 25  Thriller            100836 non-null  int64         \n",
            " 26  War                 100836 non-null  int64         \n",
            " 27  Western             100836 non-null  int64         \n",
            "dtypes: datetime64[ns](1), float64(1), int32(2), int64(23), object(1)\n",
            "memory usage: 20.8+ MB\n"
          ]
        }
      ]
    },
    {
      "cell_type": "markdown",
      "source": [
        "## Content Based Filtering\n",
        "Bagian ini membangun sistem rekomendasi berbasis konten. Metode ini merekomendasikan item kepada pengguna berdasarkan kesamaan atribut item tersebut dengan item yang disukai pengguna di masa lalu. Dalam notebook ini, kesamaan dihitung berdasarkan genre film. Bagian ini juga mencakup evaluasi model menggunakan metrik Precision@K."
      ],
      "metadata": {
        "id": "ScoWRoW7UtRl"
      }
    },
    {
      "cell_type": "markdown",
      "source": [
        "Import library yang diperlukan."
      ],
      "metadata": {
        "id": "IrdC8ZFUU1ac"
      }
    },
    {
      "cell_type": "code",
      "source": [
        "import pandas as pd\n",
        "from sklearn.metrics.pairwise import cosine_similarity\n",
        "import random\n",
        "import warnings\n",
        "warnings.filterwarnings('ignore')"
      ],
      "metadata": {
        "id": "s38fhb4hUeZe"
      },
      "execution_count": null,
      "outputs": []
    },
    {
      "cell_type": "markdown",
      "source": [
        "Mempersiapkan data untuk content-based filtering dengan memilih kolom genre dari DataFrame gabungan, membuat matriks fitur genre, dan menghitung matriks cosine similarity antar film berdasarkan genre."
      ],
      "metadata": {
        "id": "iDfZ05CCE89X"
      }
    },
    {
      "cell_type": "code",
      "source": [
        "# Asumsikan movie_rating sudah termasuk kolom movieId, title, genre one-hot (Action, Comedy, dsb.)\n",
        "genre_columns = movie_rating.columns[9:]  # Mulai dari kolom 'Action' hingga 'Western'\n",
        "movie_features = movie_rating[['movieId', 'title'] + list(genre_columns)].drop_duplicates('movieId')\n",
        "\n",
        "# Matriks fitur genre\n",
        "genre_matrix = movie_features[genre_columns].values\n",
        "\n",
        "# Matriks cosine similarity antar film\n",
        "cosine_sim = cosine_similarity(genre_matrix)\n",
        "cosine_sim_df = pd.DataFrame(cosine_sim, index=movie_features['movieId'], columns=movie_features['movieId'])"
      ],
      "metadata": {
        "id": "2yjBKB0ZB5SP"
      },
      "execution_count": null,
      "outputs": []
    },
    {
      "cell_type": "markdown",
      "source": [
        " Mendefinisikan fungsi movie_recommendations yang mengambil movie_id dan jumlah rekomendasi k sebagai input, dan mengembalikan DataFrame berisi movieId dan title dari film-film yang paling mirip berdasarkan cosine similarity."
      ],
      "metadata": {
        "id": "SjAhBrDuE99B"
      }
    },
    {
      "cell_type": "code",
      "source": [
        "def movie_recommendations(movie_id, k=5):\n",
        "    if movie_id not in cosine_sim_df:\n",
        "        return pd.DataFrame()\n",
        "\n",
        "    sim_scores = cosine_sim_df[movie_id].drop(movie_id, errors='ignore')\n",
        "    top_k_ids = sim_scores.nlargest(k).index\n",
        "    return movie_features[movie_features['movieId'].isin(top_k_ids)][['movieId', 'title']]"
      ],
      "metadata": {
        "id": "zGasyc1IB8gs"
      },
      "execution_count": null,
      "outputs": []
    },
    {
      "cell_type": "markdown",
      "source": [
        "Menyiapkan data rating untuk identifikasi film yang disukai pengguna (rating >= 4) dan membuat mapping antara movieId dan title untuk memudahkan pencarian."
      ],
      "metadata": {
        "id": "_1dEZ6_8FBZZ"
      }
    },
    {
      "cell_type": "code",
      "source": [
        "# Ambil data rating\n",
        "rating_data = movie_rating[['userId', 'movieId', 'rating']]\n",
        "\n",
        "# Asumsikan rating >= 4 dianggap \"disukai\"\n",
        "user_likes = rating_data[rating_data['rating'] >= 4].groupby('userId')['movieId'].apply(list)\n",
        "\n",
        "# Buat mapping movieId <-> title\n",
        "id_to_title = movie_features.set_index('movieId')['title'].to_dict()\n",
        "title_to_id = movie_features.set_index('title')['movieId'].to_dict()"
      ],
      "metadata": {
        "id": "Woj3BCzlB_Gv"
      },
      "execution_count": null,
      "outputs": []
    },
    {
      "cell_type": "markdown",
      "source": [
        "Menunjukkan contoh penggunaan fungsi movie_recommendations untuk mendapatkan rekomendasi film berdasarkan film \"Toy Story (1995)\"."
      ],
      "metadata": {
        "id": "JAiLUAgLFG03"
      }
    },
    {
      "cell_type": "code",
      "source": [
        "# Cek movieId dari \"Toy Story (1995)\"\n",
        "title_query = \"Toy Story (1995)\"\n",
        "movie_id_query = title_to_id[title_query]\n",
        "\n",
        "# Tampilkan rekomendasi film mirip\n",
        "recommendations = movie_recommendations(movie_id_query, k=5)\n",
        "print(\"Rekomendasi untuk:\", title_query)\n",
        "display(recommendations)"
      ],
      "metadata": {
        "colab": {
          "base_uri": "https://localhost:8080/",
          "height": 223
        },
        "id": "Zd8sFLiTC1yc",
        "outputId": "089c30d3-a16c-499d-d5e1-4c24082e9ce8"
      },
      "execution_count": null,
      "outputs": [
        {
          "output_type": "stream",
          "name": "stdout",
          "text": [
            "Rekomendasi untuk: Toy Story (1995)\n"
          ]
        },
        {
          "output_type": "display_data",
          "data": {
            "text/plain": [
              "      movieId                                           title\n",
              "927      3114                              Toy Story 2 (1999)\n",
              "947      4886                           Monsters, Inc. (2001)\n",
              "2714     2294                                     Antz (1998)\n",
              "2962     3754  Adventures of Rocky and Bullwinkle, The (2000)\n",
              "3127     4016                Emperor's New Groove, The (2000)"
            ],
            "text/html": [
              "\n",
              "  <div id=\"df-387f4790-dd0a-49b5-94bb-8b5d522dcca6\" class=\"colab-df-container\">\n",
              "    <div>\n",
              "<style scoped>\n",
              "    .dataframe tbody tr th:only-of-type {\n",
              "        vertical-align: middle;\n",
              "    }\n",
              "\n",
              "    .dataframe tbody tr th {\n",
              "        vertical-align: top;\n",
              "    }\n",
              "\n",
              "    .dataframe thead th {\n",
              "        text-align: right;\n",
              "    }\n",
              "</style>\n",
              "<table border=\"1\" class=\"dataframe\">\n",
              "  <thead>\n",
              "    <tr style=\"text-align: right;\">\n",
              "      <th></th>\n",
              "      <th>movieId</th>\n",
              "      <th>title</th>\n",
              "    </tr>\n",
              "  </thead>\n",
              "  <tbody>\n",
              "    <tr>\n",
              "      <th>927</th>\n",
              "      <td>3114</td>\n",
              "      <td>Toy Story 2 (1999)</td>\n",
              "    </tr>\n",
              "    <tr>\n",
              "      <th>947</th>\n",
              "      <td>4886</td>\n",
              "      <td>Monsters, Inc. (2001)</td>\n",
              "    </tr>\n",
              "    <tr>\n",
              "      <th>2714</th>\n",
              "      <td>2294</td>\n",
              "      <td>Antz (1998)</td>\n",
              "    </tr>\n",
              "    <tr>\n",
              "      <th>2962</th>\n",
              "      <td>3754</td>\n",
              "      <td>Adventures of Rocky and Bullwinkle, The (2000)</td>\n",
              "    </tr>\n",
              "    <tr>\n",
              "      <th>3127</th>\n",
              "      <td>4016</td>\n",
              "      <td>Emperor's New Groove, The (2000)</td>\n",
              "    </tr>\n",
              "  </tbody>\n",
              "</table>\n",
              "</div>\n",
              "    <div class=\"colab-df-buttons\">\n",
              "\n",
              "  <div class=\"colab-df-container\">\n",
              "    <button class=\"colab-df-convert\" onclick=\"convertToInteractive('df-387f4790-dd0a-49b5-94bb-8b5d522dcca6')\"\n",
              "            title=\"Convert this dataframe to an interactive table.\"\n",
              "            style=\"display:none;\">\n",
              "\n",
              "  <svg xmlns=\"http://www.w3.org/2000/svg\" height=\"24px\" viewBox=\"0 -960 960 960\">\n",
              "    <path d=\"M120-120v-720h720v720H120Zm60-500h600v-160H180v160Zm220 220h160v-160H400v160Zm0 220h160v-160H400v160ZM180-400h160v-160H180v160Zm440 0h160v-160H620v160ZM180-180h160v-160H180v160Zm440 0h160v-160H620v160Z\"/>\n",
              "  </svg>\n",
              "    </button>\n",
              "\n",
              "  <style>\n",
              "    .colab-df-container {\n",
              "      display:flex;\n",
              "      gap: 12px;\n",
              "    }\n",
              "\n",
              "    .colab-df-convert {\n",
              "      background-color: #E8F0FE;\n",
              "      border: none;\n",
              "      border-radius: 50%;\n",
              "      cursor: pointer;\n",
              "      display: none;\n",
              "      fill: #1967D2;\n",
              "      height: 32px;\n",
              "      padding: 0 0 0 0;\n",
              "      width: 32px;\n",
              "    }\n",
              "\n",
              "    .colab-df-convert:hover {\n",
              "      background-color: #E2EBFA;\n",
              "      box-shadow: 0px 1px 2px rgba(60, 64, 67, 0.3), 0px 1px 3px 1px rgba(60, 64, 67, 0.15);\n",
              "      fill: #174EA6;\n",
              "    }\n",
              "\n",
              "    .colab-df-buttons div {\n",
              "      margin-bottom: 4px;\n",
              "    }\n",
              "\n",
              "    [theme=dark] .colab-df-convert {\n",
              "      background-color: #3B4455;\n",
              "      fill: #D2E3FC;\n",
              "    }\n",
              "\n",
              "    [theme=dark] .colab-df-convert:hover {\n",
              "      background-color: #434B5C;\n",
              "      box-shadow: 0px 1px 3px 1px rgba(0, 0, 0, 0.15);\n",
              "      filter: drop-shadow(0px 1px 2px rgba(0, 0, 0, 0.3));\n",
              "      fill: #FFFFFF;\n",
              "    }\n",
              "  </style>\n",
              "\n",
              "    <script>\n",
              "      const buttonEl =\n",
              "        document.querySelector('#df-387f4790-dd0a-49b5-94bb-8b5d522dcca6 button.colab-df-convert');\n",
              "      buttonEl.style.display =\n",
              "        google.colab.kernel.accessAllowed ? 'block' : 'none';\n",
              "\n",
              "      async function convertToInteractive(key) {\n",
              "        const element = document.querySelector('#df-387f4790-dd0a-49b5-94bb-8b5d522dcca6');\n",
              "        const dataTable =\n",
              "          await google.colab.kernel.invokeFunction('convertToInteractive',\n",
              "                                                    [key], {});\n",
              "        if (!dataTable) return;\n",
              "\n",
              "        const docLinkHtml = 'Like what you see? Visit the ' +\n",
              "          '<a target=\"_blank\" href=https://colab.research.google.com/notebooks/data_table.ipynb>data table notebook</a>'\n",
              "          + ' to learn more about interactive tables.';\n",
              "        element.innerHTML = '';\n",
              "        dataTable['output_type'] = 'display_data';\n",
              "        await google.colab.output.renderOutput(dataTable, element);\n",
              "        const docLink = document.createElement('div');\n",
              "        docLink.innerHTML = docLinkHtml;\n",
              "        element.appendChild(docLink);\n",
              "      }\n",
              "    </script>\n",
              "  </div>\n",
              "\n",
              "\n",
              "    <div id=\"df-7cbc4344-1e57-42f5-bdf9-999504e1b064\">\n",
              "      <button class=\"colab-df-quickchart\" onclick=\"quickchart('df-7cbc4344-1e57-42f5-bdf9-999504e1b064')\"\n",
              "                title=\"Suggest charts\"\n",
              "                style=\"display:none;\">\n",
              "\n",
              "<svg xmlns=\"http://www.w3.org/2000/svg\" height=\"24px\"viewBox=\"0 0 24 24\"\n",
              "     width=\"24px\">\n",
              "    <g>\n",
              "        <path d=\"M19 3H5c-1.1 0-2 .9-2 2v14c0 1.1.9 2 2 2h14c1.1 0 2-.9 2-2V5c0-1.1-.9-2-2-2zM9 17H7v-7h2v7zm4 0h-2V7h2v10zm4 0h-2v-4h2v4z\"/>\n",
              "    </g>\n",
              "</svg>\n",
              "      </button>\n",
              "\n",
              "<style>\n",
              "  .colab-df-quickchart {\n",
              "      --bg-color: #E8F0FE;\n",
              "      --fill-color: #1967D2;\n",
              "      --hover-bg-color: #E2EBFA;\n",
              "      --hover-fill-color: #174EA6;\n",
              "      --disabled-fill-color: #AAA;\n",
              "      --disabled-bg-color: #DDD;\n",
              "  }\n",
              "\n",
              "  [theme=dark] .colab-df-quickchart {\n",
              "      --bg-color: #3B4455;\n",
              "      --fill-color: #D2E3FC;\n",
              "      --hover-bg-color: #434B5C;\n",
              "      --hover-fill-color: #FFFFFF;\n",
              "      --disabled-bg-color: #3B4455;\n",
              "      --disabled-fill-color: #666;\n",
              "  }\n",
              "\n",
              "  .colab-df-quickchart {\n",
              "    background-color: var(--bg-color);\n",
              "    border: none;\n",
              "    border-radius: 50%;\n",
              "    cursor: pointer;\n",
              "    display: none;\n",
              "    fill: var(--fill-color);\n",
              "    height: 32px;\n",
              "    padding: 0;\n",
              "    width: 32px;\n",
              "  }\n",
              "\n",
              "  .colab-df-quickchart:hover {\n",
              "    background-color: var(--hover-bg-color);\n",
              "    box-shadow: 0 1px 2px rgba(60, 64, 67, 0.3), 0 1px 3px 1px rgba(60, 64, 67, 0.15);\n",
              "    fill: var(--button-hover-fill-color);\n",
              "  }\n",
              "\n",
              "  .colab-df-quickchart-complete:disabled,\n",
              "  .colab-df-quickchart-complete:disabled:hover {\n",
              "    background-color: var(--disabled-bg-color);\n",
              "    fill: var(--disabled-fill-color);\n",
              "    box-shadow: none;\n",
              "  }\n",
              "\n",
              "  .colab-df-spinner {\n",
              "    border: 2px solid var(--fill-color);\n",
              "    border-color: transparent;\n",
              "    border-bottom-color: var(--fill-color);\n",
              "    animation:\n",
              "      spin 1s steps(1) infinite;\n",
              "  }\n",
              "\n",
              "  @keyframes spin {\n",
              "    0% {\n",
              "      border-color: transparent;\n",
              "      border-bottom-color: var(--fill-color);\n",
              "      border-left-color: var(--fill-color);\n",
              "    }\n",
              "    20% {\n",
              "      border-color: transparent;\n",
              "      border-left-color: var(--fill-color);\n",
              "      border-top-color: var(--fill-color);\n",
              "    }\n",
              "    30% {\n",
              "      border-color: transparent;\n",
              "      border-left-color: var(--fill-color);\n",
              "      border-top-color: var(--fill-color);\n",
              "      border-right-color: var(--fill-color);\n",
              "    }\n",
              "    40% {\n",
              "      border-color: transparent;\n",
              "      border-right-color: var(--fill-color);\n",
              "      border-top-color: var(--fill-color);\n",
              "    }\n",
              "    60% {\n",
              "      border-color: transparent;\n",
              "      border-right-color: var(--fill-color);\n",
              "    }\n",
              "    80% {\n",
              "      border-color: transparent;\n",
              "      border-right-color: var(--fill-color);\n",
              "      border-bottom-color: var(--fill-color);\n",
              "    }\n",
              "    90% {\n",
              "      border-color: transparent;\n",
              "      border-bottom-color: var(--fill-color);\n",
              "    }\n",
              "  }\n",
              "</style>\n",
              "\n",
              "      <script>\n",
              "        async function quickchart(key) {\n",
              "          const quickchartButtonEl =\n",
              "            document.querySelector('#' + key + ' button');\n",
              "          quickchartButtonEl.disabled = true;  // To prevent multiple clicks.\n",
              "          quickchartButtonEl.classList.add('colab-df-spinner');\n",
              "          try {\n",
              "            const charts = await google.colab.kernel.invokeFunction(\n",
              "                'suggestCharts', [key], {});\n",
              "          } catch (error) {\n",
              "            console.error('Error during call to suggestCharts:', error);\n",
              "          }\n",
              "          quickchartButtonEl.classList.remove('colab-df-spinner');\n",
              "          quickchartButtonEl.classList.add('colab-df-quickchart-complete');\n",
              "        }\n",
              "        (() => {\n",
              "          let quickchartButtonEl =\n",
              "            document.querySelector('#df-7cbc4344-1e57-42f5-bdf9-999504e1b064 button');\n",
              "          quickchartButtonEl.style.display =\n",
              "            google.colab.kernel.accessAllowed ? 'block' : 'none';\n",
              "        })();\n",
              "      </script>\n",
              "    </div>\n",
              "\n",
              "  <div id=\"id_c1d19457-0fa0-4c1e-bc4c-f640f2d6238e\">\n",
              "    <style>\n",
              "      .colab-df-generate {\n",
              "        background-color: #E8F0FE;\n",
              "        border: none;\n",
              "        border-radius: 50%;\n",
              "        cursor: pointer;\n",
              "        display: none;\n",
              "        fill: #1967D2;\n",
              "        height: 32px;\n",
              "        padding: 0 0 0 0;\n",
              "        width: 32px;\n",
              "      }\n",
              "\n",
              "      .colab-df-generate:hover {\n",
              "        background-color: #E2EBFA;\n",
              "        box-shadow: 0px 1px 2px rgba(60, 64, 67, 0.3), 0px 1px 3px 1px rgba(60, 64, 67, 0.15);\n",
              "        fill: #174EA6;\n",
              "      }\n",
              "\n",
              "      [theme=dark] .colab-df-generate {\n",
              "        background-color: #3B4455;\n",
              "        fill: #D2E3FC;\n",
              "      }\n",
              "\n",
              "      [theme=dark] .colab-df-generate:hover {\n",
              "        background-color: #434B5C;\n",
              "        box-shadow: 0px 1px 3px 1px rgba(0, 0, 0, 0.15);\n",
              "        filter: drop-shadow(0px 1px 2px rgba(0, 0, 0, 0.3));\n",
              "        fill: #FFFFFF;\n",
              "      }\n",
              "    </style>\n",
              "    <button class=\"colab-df-generate\" onclick=\"generateWithVariable('recommendations')\"\n",
              "            title=\"Generate code using this dataframe.\"\n",
              "            style=\"display:none;\">\n",
              "\n",
              "  <svg xmlns=\"http://www.w3.org/2000/svg\" height=\"24px\"viewBox=\"0 0 24 24\"\n",
              "       width=\"24px\">\n",
              "    <path d=\"M7,19H8.4L18.45,9,17,7.55,7,17.6ZM5,21V16.75L18.45,3.32a2,2,0,0,1,2.83,0l1.4,1.43a1.91,1.91,0,0,1,.58,1.4,1.91,1.91,0,0,1-.58,1.4L9.25,21ZM18.45,9,17,7.55Zm-12,3A5.31,5.31,0,0,0,4.9,8.1,5.31,5.31,0,0,0,1,6.5,5.31,5.31,0,0,0,4.9,4.9,5.31,5.31,0,0,0,6.5,1,5.31,5.31,0,0,0,8.1,4.9,5.31,5.31,0,0,0,12,6.5,5.46,5.46,0,0,0,6.5,12Z\"/>\n",
              "  </svg>\n",
              "    </button>\n",
              "    <script>\n",
              "      (() => {\n",
              "      const buttonEl =\n",
              "        document.querySelector('#id_c1d19457-0fa0-4c1e-bc4c-f640f2d6238e button.colab-df-generate');\n",
              "      buttonEl.style.display =\n",
              "        google.colab.kernel.accessAllowed ? 'block' : 'none';\n",
              "\n",
              "      buttonEl.onclick = () => {\n",
              "        google.colab.notebook.generateWithVariable('recommendations');\n",
              "      }\n",
              "      })();\n",
              "    </script>\n",
              "  </div>\n",
              "\n",
              "    </div>\n",
              "  </div>\n"
            ],
            "application/vnd.google.colaboratory.intrinsic+json": {
              "type": "dataframe",
              "variable_name": "recommendations",
              "summary": "{\n  \"name\": \"recommendations\",\n  \"rows\": 5,\n  \"fields\": [\n    {\n      \"column\": \"movieId\",\n      \"properties\": {\n        \"dtype\": \"number\",\n        \"std\": 973,\n        \"min\": 2294,\n        \"max\": 4886,\n        \"num_unique_values\": 5,\n        \"samples\": [\n          4886,\n          4016,\n          2294\n        ],\n        \"semantic_type\": \"\",\n        \"description\": \"\"\n      }\n    },\n    {\n      \"column\": \"title\",\n      \"properties\": {\n        \"dtype\": \"string\",\n        \"num_unique_values\": 5,\n        \"samples\": [\n          \"Monsters, Inc. (2001)\",\n          \"Emperor's New Groove, The (2000)\",\n          \"Antz (1998)\"\n        ],\n        \"semantic_type\": \"\",\n        \"description\": \"\"\n      }\n    }\n  ]\n}"
            }
          },
          "metadata": {}
        }
      ]
    },
    {
      "cell_type": "markdown",
      "source": [
        "Mendefinisikan fungsi evaluate_precision_at_k untuk menghitung Precision@K, metrik evaluasi yang mengukur proporsi item yang relevan (disukai pengguna) dalam k item teratas yang direkomendasikan."
      ],
      "metadata": {
        "id": "znC8CkbOFJV0"
      }
    },
    {
      "cell_type": "code",
      "source": [
        "def evaluate_precision_at_k(user_id, k=5):\n",
        "    liked_ids = user_likes.get(user_id, [])\n",
        "    if not liked_ids:\n",
        "        return None\n",
        "\n",
        "    query_id = liked_ids[0]  # ambil satu movie yang disukai sebagai query\n",
        "    recs = movie_recommendations(query_id, k=k)\n",
        "    if recs.empty:\n",
        "        return None\n",
        "\n",
        "    recommended_ids = recs['movieId'].tolist()\n",
        "    hits = len(set(recommended_ids) & set(liked_ids))\n",
        "    return hits / k"
      ],
      "metadata": {
        "id": "EywmnnGvCAVt"
      },
      "execution_count": null,
      "outputs": []
    },
    {
      "cell_type": "markdown",
      "source": [
        "Melakukan evaluasi Precision@5 pada sampel 100 pengguna acak untuk mengukur kinerja sistem rekomendasi berbasis konten secara keseluruhan."
      ],
      "metadata": {
        "id": "oB-XNXJ9FQzk"
      }
    },
    {
      "cell_type": "code",
      "source": [
        "random.seed(42)\n",
        "sample_users = random.sample(list(user_likes.index), 100)\n",
        "scores = [evaluate_precision_at_k(uid) for uid in sample_users]\n",
        "scores = [s for s in scores if s is not None]\n",
        "\n",
        "avg_precision_at_k = sum(scores) / len(scores)\n",
        "print(f\"Average Precision@5: {avg_precision_at_k:.4f}\")"
      ],
      "metadata": {
        "colab": {
          "base_uri": "https://localhost:8080/"
        },
        "id": "MtSsxMRiCEnt",
        "outputId": "e2a5ef4f-0929-4657-f110-42b32477b7fb"
      },
      "execution_count": null,
      "outputs": [
        {
          "output_type": "stream",
          "name": "stdout",
          "text": [
            "Average Precision@5: 0.0920\n"
          ]
        }
      ]
    },
    {
      "cell_type": "markdown",
      "source": [
        "## Collaborative Filtering\n",
        "Bagian ini membangun sistem rekomendasi berbasis kolaboratif filtering menggunakan model neural network. Metode ini merekomendasikan item kepada pengguna berdasarkan preferensi pengguna lain yang memiliki selera serupa. Ini melibatkan persiapan data, pembangunan model, pelatihan model, dan mendapatkan rekomendasi untuk pengguna tertentu.\n"
      ],
      "metadata": {
        "id": "x_MYfMHBJ-78"
      }
    },
    {
      "cell_type": "markdown",
      "source": [
        "Import library"
      ],
      "metadata": {
        "id": "MeGODfwzKCX3"
      }
    },
    {
      "cell_type": "code",
      "source": [
        "import tensorflow as tf\n",
        "from tensorflow.keras import layers, regularizers, Model\n",
        "from sklearn.model_selection import train_test_split\n",
        "from tensorflow.keras.callbacks import EarlyStopping, ReduceLROnPlateau\n",
        "import matplotlib.pyplot as plt"
      ],
      "metadata": {
        "id": "Y9BgmUu5Vp5d"
      },
      "execution_count": null,
      "outputs": []
    },
    {
      "cell_type": "markdown",
      "source": [
        " Menyiapkan data untuk model collaborative filtering dengan membuat mapping integer untuk user dan movie ID, menormalisasi rating, dan membagi data menjadi set pelatihan dan validasi."
      ],
      "metadata": {
        "id": "TgRm-zwuKEQP"
      }
    },
    {
      "cell_type": "code",
      "source": [
        "df = rating[['userId', 'movieId', 'rating']].dropna()\n",
        "\n",
        "# Mapping user dan movie ke angka\n",
        "user_ids = df['userId'].unique().tolist()\n",
        "movie_ids = df['movieId'].unique().tolist()\n",
        "\n",
        "user_to_encoded = {x: i for i, x in enumerate(user_ids)}\n",
        "movie_to_encoded = {x: i for i, x in enumerate(movie_ids)}\n",
        "\n",
        "df['user'] = df['userId'].map(user_to_encoded)\n",
        "df['movie'] = df['movieId'].map(movie_to_encoded)\n",
        "\n",
        "# Normalisasi rating ke rentang 0-1\n",
        "df['rating'] = df['rating'].astype('float32')\n",
        "min_rating, max_rating = df['rating'].min(), df['rating'].max()\n",
        "df['norm_rating'] = df['rating'].apply(lambda x: (x - min_rating) / (max_rating - min_rating))\n",
        "\n",
        "# Acak dan split data\n",
        "df = df.sample(frac=1, random_state=42)\n",
        "x = df[['user', 'movie']].values\n",
        "y = df['norm_rating'].values\n",
        "\n",
        "x_train, x_val, y_train, y_val = train_test_split(x, y, test_size=0.2, random_state=42)"
      ],
      "metadata": {
        "id": "aEWLpasgJaG6"
      },
      "execution_count": null,
      "outputs": []
    },
    {
      "cell_type": "markdown",
      "source": [
        "Mendefinisikan kelas model RecommenderNet yang merupakan model neural network untuk collaborative filtering, menggunakan embedding layer untuk merepresentasikan user dan movie, serta layer dense untuk memprediksi rating."
      ],
      "metadata": {
        "id": "ohjsvv1jKJN6"
      }
    },
    {
      "cell_type": "code",
      "source": [
        "class RecommenderNet(Model):\n",
        "    def __init__(self, num_users, num_movies, embedding_size, **kwargs):\n",
        "        super(RecommenderNet, self).__init__(**kwargs)\n",
        "        self.user_embedding = layers.Embedding(num_users, embedding_size,\n",
        "                                               embeddings_initializer='he_normal',\n",
        "                                               embeddings_regularizer=regularizers.l2(1e-4))\n",
        "        self.movie_embedding = layers.Embedding(num_movies, embedding_size,\n",
        "                                                embeddings_initializer='he_normal',\n",
        "                                                embeddings_regularizer=regularizers.l2(1e-4))\n",
        "        self.user_bias = layers.Embedding(num_users, 1)\n",
        "        self.movie_bias = layers.Embedding(num_movies, 1)\n",
        "\n",
        "        self.dense1 = layers.Dense(64, activation='relu')\n",
        "        self.dropout = layers.Dropout(0.7)\n",
        "        self.output_layer = layers.Dense(1, activation='sigmoid')\n",
        "\n",
        "    def call(self, inputs):\n",
        "        user_vec = self.user_embedding(inputs[:, 0])\n",
        "        movie_vec = self.movie_embedding(inputs[:, 1])\n",
        "        user_bias = self.user_bias(inputs[:, 0])\n",
        "        movie_bias = self.movie_bias(inputs[:, 1])\n",
        "\n",
        "        dot = tf.reduce_sum(user_vec * movie_vec, axis=1, keepdims=True)\n",
        "        x = dot + user_bias + movie_bias\n",
        "        x = self.dense1(x)\n",
        "        x = self.dropout(x)\n",
        "        return self.output_layer(x)"
      ],
      "metadata": {
        "id": "P7w2SEF3JfI0"
      },
      "execution_count": null,
      "outputs": []
    },
    {
      "cell_type": "markdown",
      "source": [
        "Menginisialisasi model RecommenderNet, mengkompilasinya dengan mean squared error (MSE) sebagai loss function dan optimizer Adam, serta melatih model menggunakan data pelatihan dan validasi dengan callback EarlyStopping dan ReduceLROnPlateau."
      ],
      "metadata": {
        "id": "mGyEIX2nKMMB"
      }
    },
    {
      "cell_type": "code",
      "source": [
        "num_users = len(user_to_encoded)\n",
        "num_movies = len(movie_to_encoded)\n",
        "\n",
        "model = RecommenderNet(num_users, num_movies, embedding_size=50)\n",
        "model.compile(loss='mse', optimizer='adam', metrics=[tf.keras.metrics.RootMeanSquaredError()])\n",
        "\n",
        "early_stop = EarlyStopping(monitor='val_loss', patience=5, restore_best_weights=True)\n",
        "lr_reduce = ReduceLROnPlateau(monitor='val_loss', factor=0.5, patience=2)\n",
        "\n",
        "history = model.fit(\n",
        "    x_train, y_train,\n",
        "    validation_data=(x_val, y_val),\n",
        "    batch_size=128,\n",
        "    epochs=30,\n",
        "    callbacks=[early_stop, lr_reduce],\n",
        "    verbose=1\n",
        ")"
      ],
      "metadata": {
        "colab": {
          "base_uri": "https://localhost:8080/"
        },
        "id": "_EiFEeVbJiJ0",
        "outputId": "0da11b97-28db-4941-fd53-0823a861e6d3"
      },
      "execution_count": null,
      "outputs": [
        {
          "output_type": "stream",
          "name": "stdout",
          "text": [
            "Epoch 1/30\n",
            "\u001b[1m631/631\u001b[0m \u001b[32m━━━━━━━━━━━━━━━━━━━━\u001b[0m\u001b[37m\u001b[0m \u001b[1m12s\u001b[0m 13ms/step - loss: 0.0567 - root_mean_squared_error: 0.2315 - val_loss: 0.0384 - val_root_mean_squared_error: 0.1950 - learning_rate: 0.0010\n",
            "Epoch 2/30\n",
            "\u001b[1m631/631\u001b[0m \u001b[32m━━━━━━━━━━━━━━━━━━━━\u001b[0m\u001b[37m\u001b[0m \u001b[1m7s\u001b[0m 8ms/step - loss: 0.0366 - root_mean_squared_error: 0.1905 - val_loss: 0.0372 - val_root_mean_squared_error: 0.1924 - learning_rate: 0.0010\n",
            "Epoch 3/30\n",
            "\u001b[1m631/631\u001b[0m \u001b[32m━━━━━━━━━━━━━━━━━━━━\u001b[0m\u001b[37m\u001b[0m \u001b[1m11s\u001b[0m 9ms/step - loss: 0.0340 - root_mean_squared_error: 0.1837 - val_loss: 0.0373 - val_root_mean_squared_error: 0.1924 - learning_rate: 0.0010\n",
            "Epoch 4/30\n",
            "\u001b[1m631/631\u001b[0m \u001b[32m━━━━━━━━━━━━━━━━━━━━\u001b[0m\u001b[37m\u001b[0m \u001b[1m11s\u001b[0m 10ms/step - loss: 0.0330 - root_mean_squared_error: 0.1808 - val_loss: 0.0371 - val_root_mean_squared_error: 0.1921 - learning_rate: 0.0010\n",
            "Epoch 5/30\n",
            "\u001b[1m631/631\u001b[0m \u001b[32m━━━━━━━━━━━━━━━━━━━━\u001b[0m\u001b[37m\u001b[0m \u001b[1m10s\u001b[0m 10ms/step - loss: 0.0318 - root_mean_squared_error: 0.1781 - val_loss: 0.0370 - val_root_mean_squared_error: 0.1922 - learning_rate: 5.0000e-04\n",
            "Epoch 6/30\n",
            "\u001b[1m631/631\u001b[0m \u001b[32m━━━━━━━━━━━━━━━━━━━━\u001b[0m\u001b[37m\u001b[0m \u001b[1m5s\u001b[0m 8ms/step - loss: 0.0312 - root_mean_squared_error: 0.1765 - val_loss: 0.0370 - val_root_mean_squared_error: 0.1923 - learning_rate: 5.0000e-04\n",
            "Epoch 7/30\n",
            "\u001b[1m631/631\u001b[0m \u001b[32m━━━━━━━━━━━━━━━━━━━━\u001b[0m\u001b[37m\u001b[0m \u001b[1m11s\u001b[0m 9ms/step - loss: 0.0311 - root_mean_squared_error: 0.1764 - val_loss: 0.0372 - val_root_mean_squared_error: 0.1927 - learning_rate: 5.0000e-04\n",
            "Epoch 8/30\n",
            "\u001b[1m631/631\u001b[0m \u001b[32m━━━━━━━━━━━━━━━━━━━━\u001b[0m\u001b[37m\u001b[0m \u001b[1m7s\u001b[0m 10ms/step - loss: 0.0307 - root_mean_squared_error: 0.1751 - val_loss: 0.0373 - val_root_mean_squared_error: 0.1930 - learning_rate: 2.5000e-04\n",
            "Epoch 9/30\n",
            "\u001b[1m631/631\u001b[0m \u001b[32m━━━━━━━━━━━━━━━━━━━━\u001b[0m\u001b[37m\u001b[0m \u001b[1m9s\u001b[0m 8ms/step - loss: 0.0308 - root_mean_squared_error: 0.1754 - val_loss: 0.0373 - val_root_mean_squared_error: 0.1931 - learning_rate: 2.5000e-04\n",
            "Epoch 10/30\n",
            "\u001b[1m631/631\u001b[0m \u001b[32m━━━━━━━━━━━━━━━━━━━━\u001b[0m\u001b[37m\u001b[0m \u001b[1m10s\u001b[0m 8ms/step - loss: 0.0303 - root_mean_squared_error: 0.1739 - val_loss: 0.0374 - val_root_mean_squared_error: 0.1934 - learning_rate: 1.2500e-04\n"
          ]
        }
      ]
    },
    {
      "cell_type": "markdown",
      "source": [
        "Memvisualisasikan nilai Root Mean Squared Error (RMSE) selama pelatihan dan validasi untuk memantau kinerja model dari waktu ke waktu."
      ],
      "metadata": {
        "id": "0bgEk5uqKO5c"
      }
    },
    {
      "cell_type": "code",
      "source": [
        "plt.plot(history.history['root_mean_squared_error'], label='Train RMSE')\n",
        "plt.plot(history.history['val_root_mean_squared_error'], label='Val RMSE')\n",
        "plt.legend()\n",
        "plt.title('Training vs Validation RMSE')\n",
        "plt.xlabel('Epoch')\n",
        "plt.ylabel('RMSE')\n",
        "plt.grid(True)\n",
        "plt.show()"
      ],
      "metadata": {
        "colab": {
          "base_uri": "https://localhost:8080/",
          "height": 472
        },
        "id": "VKkPZ0X2KQ1y",
        "outputId": "875603c4-b6bf-4a2f-84ec-a803d1ab7d92"
      },
      "execution_count": null,
      "outputs": [
        {
          "output_type": "display_data",
          "data": {
            "text/plain": [
              "<Figure size 640x480 with 1 Axes>"
            ],
            "image/png": "[encoded data removed]"
          },
          "metadata": {}
        }
      ]
    },
    {
      "cell_type": "markdown",
      "source": [
        "Menunjukkan cara mendapatkan rekomendasi film untuk pengguna tertentu menggunakan model collaborative filtering yang sudah dilatih. Ini memilih pengguna acak, mengidentifikasi film yang belum ditonton pengguna, memprediksi rating untuk film-film tersebut, dan menampilkan 10 film dengan prediksi rating tertinggi."
      ],
      "metadata": {
        "id": "bqfKbmuKKUnP"
      }
    },
    {
      "cell_type": "code",
      "source": [
        "encoded_to_movie = {v: k for k, v in movie_to_encoded.items()}\n",
        "\n",
        "user_id = df.userId.sample(1).iloc[0]\n",
        "movies_watched = rating[rating['userId'] == user_id]['movieId'].tolist()\n",
        "\n",
        "movies_not_watched = list(\n",
        "    set(movie_ids) - set(movies_watched)\n",
        ")\n",
        "movies_not_watched_encoded = [movie_to_encoded[m] for m in movies_not_watched if m in movie_to_encoded]\n",
        "\n",
        "user_encoded = user_to_encoded[user_id]\n",
        "user_movie_array = np.hstack(\n",
        "    ([[user_encoded]] * len(movies_not_watched_encoded), np.array(movies_not_watched_encoded).reshape(-1, 1))\n",
        ")\n",
        "\n",
        "ratings = model.predict(user_movie_array).flatten()\n",
        "top_k_indices = ratings.argsort()[-10:][::-1]\n",
        "recommended_movie_ids = [encoded_to_movie[movies_not_watched_encoded[i]] for i in top_k_indices]\n",
        "\n",
        "# Tampilkan rekomendasi\n",
        "print(f\"Rekomendasi untuk user {user_id}\")\n",
        "print(\"-\" * 30)\n",
        "recommended_movies = movies[movies['movieId'].isin(recommended_movie_ids)]\n",
        "for row in recommended_movies.itertuples():\n",
        "    print(f\"{row.title}\")"
      ],
      "metadata": {
        "colab": {
          "base_uri": "https://localhost:8080/"
        },
        "id": "bihB9TSVKVY7",
        "outputId": "2a5ba88d-1e39-4bb4-97da-fd1a51f079a9"
      },
      "execution_count": null,
      "outputs": [
        {
          "output_type": "stream",
          "name": "stdout",
          "text": [
            "\u001b[1m301/301\u001b[0m \u001b[32m━━━━━━━━━━━━━━━━━━━━\u001b[0m\u001b[37m\u001b[0m \u001b[1m1s\u001b[0m 2ms/step\n",
            "Rekomendasi untuk user 301\n",
            "------------------------------\n",
            "Persuasion (1995)\n",
            "Shawshank Redemption, The (1994)\n",
            "Streetcar Named Desire, A (1951)\n",
            "Lawrence of Arabia (1962)\n",
            "Swept Away (Travolti da un insolito destino nell'azzurro mare d'Agosto) (1975)\n",
            "Jules and Jim (Jules et Jim) (1961)\n",
            "Lady Eve, The (1941)\n",
            "Trial, The (Procès, Le) (1962)\n",
            "Baby Driver (2017)\n",
            "Three Billboards Outside Ebbing, Missouri (2017)\n"
          ]
        }
      ]
    }
  ]
}